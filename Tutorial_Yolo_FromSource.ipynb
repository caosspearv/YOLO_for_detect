{
  "cells": [
    {
      "cell_type": "markdown",
      "metadata": {
        "id": "7mGmQbAO5pQb"
      },
      "source": [
        "# Setup\n",
        "\n",
        "pip install `ultralytics` and [dependencies](https://github.com/ultralytics/ultralytics/blob/main/pyproject.toml) and check software and hardware.\n",
        "\n",
        "[![PyPI - Version](https://img.shields.io/pypi/v/ultralytics?logo=pypi&logoColor=white)](https://pypi.org/project/ultralytics/) [![Downloads](https://static.pepy.tech/badge/ultralytics)](https://www.pepy.tech/projects/ultralytics) [![PyPI - Python Version](https://img.shields.io/pypi/pyversions/ultralytics?logo=python&logoColor=gold)](https://pypi.org/project/ultralytics/)"
      ]
    },
    {
      "cell_type": "code",
      "execution_count": null,
      "metadata": {
        "colab": {
          "base_uri": "https://localhost:8080/"
        },
        "id": "wbvMlHd_QwMG",
        "outputId": "19c83b3b-1d40-48bb-e27b-88e021cb99b2"
      },
      "outputs": [
        {
          "output_type": "stream",
          "name": "stdout",
          "text": [
            "Ultralytics 8.3.159 🚀 Python-3.11.13 torch-2.6.0+cu124 CUDA:0 (Tesla T4, 15095MiB)\n",
            "Setup complete ✅ (2 CPUs, 12.7 GB RAM, 42.7/112.6 GB disk)\n"
          ]
        }
      ],
      "source": [
        "# Na primeira vez rodar tudo abaixo\n",
        "%pip install ultralytics\n",
        "import ultralytics\n",
        "ultralytics.checks()"
      ]
    },
    {
      "cell_type": "markdown",
      "metadata": {
        "id": "4JnkELT0cIJg"
      },
      "source": [
        "# 1. Predict\n",
        "\n",
        "YOLO11 may be used directly in the Command Line Interface (CLI) with a `yolo` command for a variety of tasks and modes and accepts additional arguments, i.e. `imgsz=640`. See a full list of available `yolo` [arguments](https://docs.ultralytics.com/usage/cfg/) and other details in the [YOLO11 Predict Docs](https://docs.ultralytics.com/modes/train/).\n"
      ]
    },
    {
      "cell_type": "code",
      "execution_count": null,
      "metadata": {
        "colab": {
          "base_uri": "https://localhost:8080/"
        },
        "id": "zR9ZbuQCH7FX",
        "outputId": "7faee812-620a-48e8-aac8-f61c682a9420"
      },
      "outputs": [
        {
          "output_type": "stream",
          "name": "stdout",
          "text": [
            "Downloading https://github.com/ultralytics/assets/releases/download/v8.3.0/yolo11n.pt to 'yolo11n.pt'...\n",
            "100% 5.35M/5.35M [00:00<00:00, 105MB/s]\n",
            "Ultralytics 8.3.159 🚀 Python-3.11.13 torch-2.6.0+cu124 CUDA:0 (Tesla T4, 15095MiB)\n",
            "YOLO11n summary (fused): 100 layers, 2,616,248 parameters, 0 gradients, 6.5 GFLOPs\n",
            "\n",
            "Downloading https://ultralytics.com/images/zidane.jpg to 'zidane.jpg'...\n",
            "100% 49.2k/49.2k [00:00<00:00, 8.06MB/s]\n",
            "image 1/1 /content/zidane.jpg: 384x640 2 persons, 1 tie, 45.2ms\n",
            "Speed: 10.7ms preprocess, 45.2ms inference, 368.9ms postprocess per image at shape (1, 3, 384, 640)\n",
            "Results saved to \u001b[1mruns/detect/predict\u001b[0m\n",
            "💡 Learn more at https://docs.ultralytics.com/modes/predict\n"
          ]
        }
      ],
      "source": [
        "# Run inference on an image with YOLO11n\n",
        "!yolo predict model=yolo11n.pt source='https://ultralytics.com/images/zidane.jpg'"
      ]
    },
    {
      "cell_type": "markdown",
      "metadata": {
        "id": "hkAzDWJ7cWTr"
      },
      "source": [
        "&nbsp;&nbsp;&nbsp;&nbsp;&nbsp;&nbsp;&nbsp;&nbsp;\n",
        "<img align=\"left\" src=\"https://user-images.githubusercontent.com/26833433/212889447-69e5bdf1-5800-4e29-835e-2ed2336dede2.jpg\" width=\"600\">"
      ]
    },
    {
      "cell_type": "markdown",
      "metadata": {
        "id": "0eq1SMWl6Sfn"
      },
      "source": [
        "# 2. Val\n",
        "Validate a model's accuracy on the [COCO](https://docs.ultralytics.com/datasets/detect/coco/) dataset's `val` or `test` splits. The latest YOLO11 [models](https://github.com/ultralytics/ultralytics#models) are downloaded automatically the first time they are used. See [YOLO11 Val Docs](https://docs.ultralytics.com/modes/val/) for more information."
      ]
    },
    {
      "cell_type": "code",
      "execution_count": null,
      "metadata": {
        "id": "WQPtK1QYVaD_",
        "colab": {
          "base_uri": "https://localhost:8080/"
        },
        "outputId": "a72a8ab7-9f01-4c62-ee53-ee1091100c5e"
      },
      "outputs": [
        {
          "output_type": "stream",
          "name": "stderr",
          "text": [
            "100%|██████████| 780M/780M [00:08<00:00, 96.2MB/s]\n"
          ]
        },
        {
          "output_type": "stream",
          "name": "stdout",
          "text": [
            "replace datasets/coco/.DS_Store? [y]es, [n]o, [A]ll, [N]one, [r]ename: A\n"
          ]
        }
      ],
      "source": [
        "# Download COCO val\n",
        "# na primeira vez rodar tudo abaixo\n",
        "import torch\n",
        "torch.hub.download_url_to_file('https://ultralytics.com/assets/coco2017val.zip', 'tmp.zip')  # download (780M - 5000 images)\n",
        "!unzip -q tmp.zip -d datasets && rm tmp.zip  # unzip"
      ]
    },
    {
      "cell_type": "code",
      "execution_count": null,
      "metadata": {
        "colab": {
          "base_uri": "https://localhost:8080/"
        },
        "id": "X58w8JLpMnjH",
        "outputId": "7fa8f4f0-fdf3-48ff-a954-529746008096"
      },
      "outputs": [
        {
          "output_type": "stream",
          "name": "stdout",
          "text": [
            "Ultralytics 8.3.159 🚀 Python-3.11.13 torch-2.6.0+cu124 CUDA:0 (Tesla T4, 15095MiB)\n",
            "YOLO11n summary (fused): 100 layers, 2,616,248 parameters, 0 gradients, 6.5 GFLOPs\n",
            "\u001b[34m\u001b[1mval: \u001b[0mFast image access ✅ (ping: 0.0±0.0 ms, read: 1778.6±669.0 MB/s, size: 54.0 KB)\n",
            "\u001b[34m\u001b[1mval: \u001b[0mScanning /content/datasets/coco8/labels/val.cache... 4 images, 0 backgrounds, 0 corrupt: 100% 4/4 [00:00<?, ?it/s]\n",
            "                 Class     Images  Instances      Box(P          R      mAP50  mAP50-95): 100% 1/1 [00:00<00:00,  3.52it/s]\n",
            "                   all          4         17       0.57       0.85      0.847      0.632\n",
            "                person          3         10      0.557        0.6      0.585      0.272\n",
            "                   dog          1          1      0.548          1      0.995      0.697\n",
            "                 horse          1          2      0.531          1      0.995      0.674\n",
            "              elephant          1          2      0.371        0.5      0.516      0.256\n",
            "              umbrella          1          1      0.569          1      0.995      0.995\n",
            "          potted plant          1          1      0.847          1      0.995      0.895\n",
            "Speed: 1.1ms preprocess, 15.4ms inference, 0.0ms loss, 34.7ms postprocess per image\n",
            "Results saved to \u001b[1mruns/detect/val2\u001b[0m\n",
            "💡 Learn more at https://docs.ultralytics.com/modes/val\n"
          ]
        }
      ],
      "source": [
        "# Validate YOLO11n on COCO8 val\n",
        "!yolo val model=yolo11n.pt data=coco8.yaml"
      ]
    },
    {
      "cell_type": "markdown",
      "metadata": {
        "id": "ZY2VXXXu74w5"
      },
      "source": [
        "# 3. Train\n",
        "\n",
        "<p align=\"\"><a href=\"https://ultralytics.com/hub\"><img width=\"1000\" src=\"https://github.com/ultralytics/assets/raw/main/yolov8/banner-integrations.png\"/></a></p>\n",
        "\n",
        "Train YOLO11 on [Detect](https://docs.ultralytics.com/tasks/detect/), [Segment](https://docs.ultralytics.com/tasks/segment/), [Classify](https://docs.ultralytics.com/tasks/classify/) and [Pose](https://docs.ultralytics.com/tasks/pose/) datasets. See [YOLO11 Train Docs](https://docs.ultralytics.com/modes/train/) for more information."
      ]
    },
    {
      "cell_type": "code",
      "execution_count": null,
      "metadata": {
        "id": "ktegpM42AooT"
      },
      "outputs": [],
      "source": [
        "#@title Select YOLO11 🚀 logger {run: 'auto'}\n",
        "logger = 'TensorBoard' #@param ['TensorBoard', 'Weights & Biases']\n",
        "\n",
        "if logger == 'TensorBoard':\n",
        "  !yolo settings tensorboard=True\n",
        "  %load_ext tensorboard\n",
        "  %tensorboard --logdir .\n",
        "elif logger == 'Weights & Biases':\n",
        "  !yolo settings wandb=True"
      ]
    },
    {
      "cell_type": "code",
      "execution_count": null,
      "metadata": {
        "colab": {
          "base_uri": "https://localhost:8080/"
        },
        "id": "XPhx4gtJHxJw",
        "outputId": "151952cb-21ba-45d6-ef16-71a35e54deae"
      },
      "outputs": [
        {
          "output_type": "stream",
          "name": "stdout",
          "text": [
            "loading Roboflow workspace...\n",
            "loading Roboflow project...\n"
          ]
        }
      ],
      "source": [
        "# Download das imagens com labels pelo roboflow do a ser identificado\n",
        "# Depois de copiar no roboflow, colar no espaço abaixo.\n",
        "\n",
        "#!pip install roboflow\n",
        "\n",
        "from roboflow import Roboflow\n",
        "rf = Roboflow(api_key=\"DrodC0ON6OD8zSSHoTi0\")\n",
        "project = rf.workspace(\"roboflow-100\").project(\"vehicles-q0x2v\")\n",
        "version = project.version(2)\n",
        "dataset = version.download(\"yolov11\")\n",
        "\n",
        "\n"
      ]
    },
    {
      "cell_type": "code",
      "execution_count": null,
      "metadata": {
        "colab": {
          "base_uri": "https://localhost:8080/"
        },
        "collapsed": true,
        "id": "1NcFxRcFdJ_O",
        "outputId": "189745f4-bf7d-45e8-f5a0-cd8b3b0c8805"
      },
      "outputs": [
        {
          "output_type": "stream",
          "name": "stdout",
          "text": [
            "Ultralytics 8.3.159 🚀 Python-3.11.13 torch-2.6.0+cu124 CUDA:0 (Tesla T4, 15095MiB)\n",
            "\u001b[34m\u001b[1mengine/trainer: \u001b[0magnostic_nms=False, amp=True, augment=False, auto_augment=randaugment, batch=16, bgr=0.0, box=7.5, cache=False, cfg=None, classes=None, close_mosaic=10, cls=0.5, conf=None, copy_paste=0.0, copy_paste_mode=flip, cos_lr=False, cutmix=0.0, data=/content/vehicles-2/data.yaml, degrees=0.0, deterministic=True, device=None, dfl=1.5, dnn=False, dropout=0.0, dynamic=False, embed=None, epochs=3, erasing=0.4, exist_ok=False, fliplr=0.5, flipud=0.0, format=torchscript, fraction=1.0, freeze=None, half=False, hsv_h=0.015, hsv_s=0.7, hsv_v=0.4, imgsz=640, int8=False, iou=0.7, keras=False, kobj=1.0, line_width=None, lr0=0.01, lrf=0.01, mask_ratio=4, max_det=300, mixup=0.0, mode=train, model=yolo11n.pt, momentum=0.937, mosaic=1.0, multi_scale=False, name=train7, nbs=64, nms=False, opset=None, optimize=False, optimizer=auto, overlap_mask=True, patience=100, perspective=0.0, plots=True, pose=12.0, pretrained=True, profile=False, project=None, rect=False, resume=False, retina_masks=False, save=True, save_conf=False, save_crop=False, save_dir=runs/detect/train7, save_frames=False, save_json=False, save_period=-1, save_txt=False, scale=0.5, seed=0, shear=0.0, show=False, show_boxes=True, show_conf=True, show_labels=True, simplify=True, single_cls=False, source=None, split=val, stream_buffer=False, task=detect, time=None, tracker=botsort.yaml, translate=0.1, val=True, verbose=True, vid_stride=1, visualize=False, warmup_bias_lr=0.1, warmup_epochs=3.0, warmup_momentum=0.8, weight_decay=0.0005, workers=8, workspace=None\n",
            "\n",
            "Traceback (most recent call last):\n",
            "  File \"/usr/local/lib/python3.11/dist-packages/ultralytics/engine/trainer.py\", line 607, in get_dataset\n",
            "    data = check_det_dataset(self.args.data)\n",
            "           ^^^^^^^^^^^^^^^^^^^^^^^^^^^^^^^^^\n",
            "  File \"/usr/local/lib/python3.11/dist-packages/ultralytics/data/utils.py\", line 463, in check_det_dataset\n",
            "    raise FileNotFoundError(m)\n",
            "FileNotFoundError: Dataset '/content/vehicles-2/data.yaml' images not found, missing path '/content/vehicles-2/valid/images'\n",
            "Note dataset download directory is '/content/datasets'. You can update this in '/root/.config/Ultralytics/settings.json'\n",
            "\n",
            "The above exception was the direct cause of the following exception:\n",
            "\n",
            "Traceback (most recent call last):\n",
            "  File \"/usr/local/bin/yolo\", line 8, in <module>\n",
            "    sys.exit(entrypoint())\n",
            "             ^^^^^^^^^^^^\n",
            "  File \"/usr/local/lib/python3.11/dist-packages/ultralytics/cfg/__init__.py\", line 985, in entrypoint\n",
            "    getattr(model, mode)(**overrides)  # default args from model\n",
            "    ^^^^^^^^^^^^^^^^^^^^^^^^^^^^^^^^^\n",
            "  File \"/usr/local/lib/python3.11/dist-packages/ultralytics/engine/model.py\", line 791, in train\n",
            "    self.trainer = (trainer or self._smart_load(\"trainer\"))(overrides=args, _callbacks=self.callbacks)\n",
            "                   ^^^^^^^^^^^^^^^^^^^^^^^^^^^^^^^^^^^^^^^^^^^^^^^^^^^^^^^^^^^^^^^^^^^^^^^^^^^^^^^^^^^\n",
            "  File \"/usr/local/lib/python3.11/dist-packages/ultralytics/engine/trainer.py\", line 153, in __init__\n",
            "    self.data = self.get_dataset()\n",
            "                ^^^^^^^^^^^^^^^^^^\n",
            "  File \"/usr/local/lib/python3.11/dist-packages/ultralytics/engine/trainer.py\", line 611, in get_dataset\n",
            "    raise RuntimeError(emojis(f\"Dataset '{clean_url(self.args.data)}' error ❌ {e}\")) from e\n",
            "RuntimeError: Dataset '/content/vehicles-2/data.yaml' error ❌ Dataset '/content/vehicles-2/data.yaml' images not found, missing path '/content/vehicles-2/valid/images'\n",
            "Note dataset download directory is '/content/datasets'. You can update this in '/root/.config/Ultralytics/settings.json'\n"
          ]
        }
      ],
      "source": [
        "# Train YOLO11n on COCO8 for 3 epochs\n",
        "# Data= caminho/ARQUIVO.yaml da pasta que consta o download\n",
        "!yolo train model=yolo11n.pt data=/content/vehicles-2/data.yaml epochs=3 imgsz=640"
      ]
    },
    {
      "cell_type": "markdown",
      "metadata": {
        "id": "zsirDrlYaICa"
      },
      "source": [
        "Results saved to ... Pegar esse caminho"
      ]
    },
    {
      "cell_type": "markdown",
      "metadata": {
        "id": "nPZZeNrLCQG6"
      },
      "source": [
        "# 4. Export\n",
        "\n",
        "Export a YOLO model to any supported format below with the `format` argument, i.e. `format=onnx`. See [Export Docs](https://docs.ultralytics.com/modes/export/) for more information.\n",
        "\n",
        "- 💡 ProTip: Export to [ONNX](https://docs.ultralytics.com/integrations/onnx/) or [OpenVINO](https://docs.ultralytics.com/integrations/openvino/) for up to 3x CPU speedup.\n",
        "- 💡 ProTip: Export to [TensorRT](https://docs.ultralytics.com/integrations/tensorrt/) for up to 5x GPU speedup.\n",
        "\n",
        "| Format | `format` Argument | Model | Metadata | Arguments |\n",
        "|--------|-----------------|-------|----------|------------|\n",
        "| [PyTorch](https://pytorch.org/) | - | `yolo11n.pt` | ✅ | - |\n",
        "| [TorchScript](https://docs.ultralytics.com/integrations/torchscript) | `torchscript` | `yolo11n.torchscript` | ✅ | `imgsz`, `batch`, `optimize`, `half`, `nms`, `device` |\n",
        "| [ONNX](https://docs.ultralytics.com/integrations/onnx) | `onnx` | `yolo11n.onnx` | ✅ | `imgsz`, `batch`, `dynamic`, `half`, `opset`, `simplify`, `nms`, `device` |\n",
        "| [OpenVINO](https://docs.ultralytics.com/integrations/openvino) | `openvino` | `yolo11n_openvino_model/` | ✅ | `imgsz`, `batch`, `dynamic`, `half`, `int8`, `nms`, `fraction`, `device`, `data` |\n",
        "| [TensorRT](https://docs.ultralytics.com/integrations/tensorrt) | `engine` | `yolo11n.engine` | ✅ | `imgsz`, `batch`, `dynamic`, `half`, `int8`, `simplify`, `nms`, `fraction`, `device`, `data`, `workspace` |\n",
        "| [CoreML](https://docs.ultralytics.com/integrations/coreml) | `coreml` | `yolo11n.mlpackage` | ✅ | `imgsz`, `batch`, `half`, `int8`, `nms`, `device` |\n",
        "| [TF SavedModel](https://docs.ultralytics.com/integrations/tf-savedmodel) | `saved_model` | `yolo11n_saved_model/` | ✅ | `imgsz`, `batch`, `int8`, `keras`, `nms`, `device` |\n",
        "| [TF GraphDef](https://docs.ultralytics.com/integrations/tf-graphdef) | `pb` | `yolo11n.pb` | ❌ | `imgsz`, `batch`, `device` |\n",
        "| [TF Lite](https://docs.ultralytics.com/integrations/tflite) | `tflite` | `yolo11n.tflite` | ✅ | `imgsz`, `batch`, `half`, `int8`, `nms`, `fraction`, `device`, `data` |\n",
        "| [TF Edge TPU](https://docs.ultralytics.com/integrations/edge-tpu) | `edgetpu` | `yolo11n_edgetpu.tflite` | ✅ | `imgsz`, `device` |\n",
        "| [TF.js](https://docs.ultralytics.com/integrations/tfjs) | `tfjs` | `yolo11n_web_model/` | ✅ | `imgsz`, `batch`, `half`, `int8`, `nms`, `device` |\n",
        "| [PaddlePaddle](https://docs.ultralytics.com/integrations/paddlepaddle) | `paddle` | `yolo11n_paddle_model/` | ✅ | `imgsz`, `batch`, `device` |\n",
        "| [MNN](https://docs.ultralytics.com/integrations/mnn) | `mnn` | `yolo11n.mnn` | ✅ | `imgsz`, `batch`, `half`, `int8`, `device` |\n",
        "| [NCNN](https://docs.ultralytics.com/integrations/ncnn) | `ncnn` | `yolo11n_ncnn_model/` | ✅ | `imgsz`, `batch`, `half`, `device` |\n",
        "| [IMX500](https://docs.ultralytics.com/integrations/sony-imx500) | `imx` | `yolo11n_imx_model/` | ✅ | `imgsz`, `int8`, `fraction`, `device`, `data` |\n",
        "| [RKNN](https://docs.ultralytics.com/integrations/rockchip-rknn) | `rknn` | `yolo11n_rknn_model/` | ✅ | `imgsz`, `batch`, `name`, `device` |"
      ]
    },
    {
      "cell_type": "code",
      "execution_count": null,
      "metadata": {
        "colab": {
          "base_uri": "https://localhost:8080/"
        },
        "id": "CYIjW4igCjqD",
        "outputId": "09fa7713-c996-4e9a-9433-a5e10f829e55"
      },
      "outputs": [
        {
          "name": "stdout",
          "output_type": "stream",
          "text": [
            "Ultralytics 8.3.158 🚀 Python-3.11.13 torch-2.6.0+cu124 CPU (Intel Xeon 2.20GHz)\n",
            "YOLO11n summary (fused): 100 layers, 2,584,492 parameters, 0 gradients, 6.3 GFLOPs\n",
            "\n",
            "\u001b[34m\u001b[1mPyTorch:\u001b[0m starting from '/content/runs/detect/train5/weights/best.pt' with input shape (1, 3, 640, 640) BCHW and output shape(s) (1, 16, 8400) (5.2 MB)\n",
            "\n",
            "\u001b[34m\u001b[1mTorchScript:\u001b[0m starting export with torch 2.6.0+cu124...\n",
            "\u001b[34m\u001b[1mTorchScript:\u001b[0m export success ✅ 3.2s, saved as '/content/runs/detect/train5/weights/best.torchscript' (10.4 MB)\n",
            "\n",
            "Export complete (3.8s)\n",
            "Results saved to \u001b[1m/content/runs/detect/train5/weights\u001b[0m\n",
            "Predict:         yolo predict task=detect model=/content/runs/detect/train5/weights/best.torchscript imgsz=640  \n",
            "Validate:        yolo val task=detect model=/content/runs/detect/train5/weights/best.torchscript imgsz=640 data=/content/vehicles-2/data.yaml  \n",
            "Visualize:       https://netron.app\n",
            "💡 Learn more at https://docs.ultralytics.com/modes/export\n"
          ]
        }
      ],
      "source": [
        "# Converter resultados para torchscript ou qualquer formato acima\n",
        "# model= Caminho/best.pt\n",
        "!yolo export model=/content/runs/detect/train5/weights/best.pt format=torchscript"
      ]
    },
    {
      "cell_type": "markdown",
      "metadata": {
        "id": "kUMOQ0OeDBJG"
      },
      "source": [
        "# 5. Python Usage\n",
        "\n",
        "YOLO11 was reimagined using Python-first principles for the most seamless Python YOLO experience yet. YOLO11 models can be loaded from a trained checkpoint or created from scratch. Then methods are used to train, val, predict, and export the model. See detailed Python usage examples in the [YOLO11 Python Docs](https://docs.ultralytics.com/usage/python/)."
      ]
    },
    {
      "cell_type": "code",
      "execution_count": null,
      "metadata": {
        "colab": {
          "background_save": true,
          "base_uri": "https://localhost:8080/"
        },
        "id": "bpF9-vS_DAaf",
        "outputId": "a39427b1-90a8-4a30-e4bf-81417c6f9b3a"
      },
      "outputs": [
        {
          "name": "stdout",
          "output_type": "stream",
          "text": [
            "Loading /content/runs/detect/train5/weights/best.torchscript for TorchScript inference...\n",
            "\n",
            "1/1: https://youtu.be/xEtM1I1Afhc?si=XxoAhU8kyRmyOwss... Success ✅ (61840 frames of shape 1920x1080 at 29.97 FPS)\n",
            "\n",
            "WARNING ⚠️ \n",
            "inference results will accumulate in RAM unless `stream=True` is passed, causing potential out-of-memory\n",
            "errors for large sources or long-running streams and videos. See https://docs.ultralytics.com/modes/predict/ for help.\n",
            "\n",
            "Example:\n",
            "    results = model(source=..., stream=True)  # generator of Results objects\n",
            "    for r in results:\n",
            "        boxes = r.boxes  # Boxes object for bbox outputs\n",
            "        masks = r.masks  # Masks object for segment masks outputs\n",
            "        probs = r.probs  # Class probabilities for classification outputs\n",
            "\n",
            "0: 640x640 1 car, 1 small truck, 27.9ms\n",
            "0: 640x640 1 car, 13.8ms\n",
            "0: 640x640 1 car, 52.3ms\n",
            "0: 640x640 5 cars, 1 small truck, 1 truck-l-, 1 truck-m-, 37.1ms\n",
            "0: 640x640 6 cars, 2 small trucks, 1 truck-m-, 36.7ms\n",
            "0: 640x640 9 cars, 1 small truck, 9.1ms\n",
            "0: 640x640 1 car, 13.5ms\n",
            "0: 640x640 1 car, 54.3ms\n",
            "0: 640x640 1 car, 56.8ms\n",
            "0: 640x640 1 car, 42.0ms\n",
            "0: 640x640 1 car, 19.9ms\n",
            "0: 640x640 2 cars, 15.9ms\n",
            "0: 640x640 1 car, 14.3ms\n",
            "0: 640x640 1 car, 20.3ms\n",
            "0: 640x640 1 car, 13.4ms\n",
            "0: 640x640 7 cars, 2 small trucks, 1 truck-m-, 1 truck-s-, 36.5ms\n",
            "0: 640x640 6 cars, 1 small truck, 1 truck-m-, 19.8ms\n",
            "0: 640x640 4 cars, 1 small truck, 1 truck-m-, 28.8ms\n",
            "0: 640x640 11 cars, 1 small truck, 1 truck-m-, 1 truck-s-, 40.7ms\n",
            "0: 640x640 6 cars, 1 truck-m-, 889.2ms\n",
            "0: 640x640 6 cars, 1 small truck, 42.9ms\n",
            "0: 640x640 8 cars, 16.8ms\n",
            "0: 640x640 9 cars, 51.2ms\n",
            "0: 640x640 6 cars, 20.2ms\n",
            "0: 640x640 8 cars, 68.5ms\n",
            "0: 640x640 9 cars, 12.3ms\n",
            "0: 640x640 6 cars, 66.0ms\n",
            "0: 640x640 7 cars, 1 truck-l-, 35.2ms\n",
            "0: 640x640 9 cars, 2 truck-l-s, 61.8ms\n",
            "0: 640x640 8 cars, 1 truck-l-, 36.8ms\n",
            "0: 640x640 7 cars, 20.4ms\n",
            "0: 640x640 6 cars, 49.4ms\n",
            "0: 640x640 4 cars, 1 truck-xl-, 32.1ms\n",
            "0: 640x640 7 cars, 1 small truck, 1 truck-m-, 20.0ms\n",
            "0: 640x640 6 cars, 1 truck-m-, 67.4ms\n",
            "0: 640x640 6 cars, 1 small truck, 1 truck-m-, 1 truck-s-, 48.9ms\n",
            "0: 640x640 5 cars, 1 truck-l-, 2 truck-s-s, 17.7ms\n",
            "0: 640x640 7 cars, 1 truck-l-, 1 truck-m-, 37.3ms\n",
            "0: 640x640 8 cars, 1 truck-l-, 1 truck-m-, 1 truck-s-, 34.8ms\n",
            "0: 640x640 9 cars, 1 truck-l-, 1 truck-m-, 35.0ms\n",
            "0: 640x640 7 cars, 2 small trucks, 1 truck-l-, 1 truck-m-, 24.8ms\n",
            "0: 640x640 6 cars, 2 small trucks, 2 truck-l-s, 1 truck-s-, 12.5ms\n",
            "0: 640x640 1 car, 21.4ms\n",
            "0: 640x640 2 cars, 47.8ms\n",
            "0: 640x640 1 car, 46.9ms\n",
            "0: 640x640 11 cars, 1 small truck, 1 truck-l-, 1 truck-m-, 1 truck-s-, 57.1ms\n",
            "0: 640x640 2 cars, 1 truck-l-, 89.3ms\n",
            "0: 640x640 1 car, 1 truck-l-, 37.1ms\n",
            "0: 640x640 1 truck-l-, 68.3ms\n",
            "0: 640x640 1 truck-l-, 47.1ms\n",
            "0: 640x640 3 cars, 55.5ms\n",
            "0: 640x640 8 cars, 2 small trucks, 1 truck-l-, 1 truck-m-, 54.9ms\n",
            "0: 640x640 1 car, 45.2ms\n",
            "0: 640x640 3 cars, 14.2ms\n",
            "0: 640x640 4 cars, 12.0ms\n",
            "0: 640x640 4 cars, 10.7ms\n",
            "0: 640x640 5 cars, 9.2ms\n",
            "0: 640x640 5 cars, 1 truck-m-, 38.5ms\n",
            "0: 640x640 3 cars, 1 small truck, 25.9ms\n",
            "0: 640x640 2 cars, 1 truck-s-, 25.1ms\n",
            "0: 640x640 4 cars, 1 truck-m-, 10.9ms\n",
            "0: 640x640 3 cars, 1 small truck, 13.7ms\n",
            "0: 640x640 3 cars, 1 truck-s-, 33.5ms\n",
            "0: 640x640 3 cars, 1 small truck, 73.3ms\n",
            "0: 640x640 4 cars, 1 truck-s-, 17.3ms\n",
            "0: 640x640 4 cars, 1 truck-s-, 21.3ms\n",
            "0: 640x640 2 cars, 20.3ms\n",
            "0: 640x640 4 cars, 46.7ms\n",
            "0: 640x640 4 cars, 50.8ms\n",
            "0: 640x640 3 cars, 32.9ms\n",
            "0: 640x640 2 cars, 23.3ms\n",
            "0: 640x640 4 cars, 58.8ms\n",
            "0: 640x640 3 cars, 50.9ms\n",
            "0: 640x640 2 cars, 62.9ms\n",
            "0: 640x640 2 cars, 218.9ms\n",
            "0: 640x640 2 cars, 10.6ms\n",
            "0: 640x640 14 cars, 1 small truck, 1 truck-s-, 30.7ms\n",
            "0: 640x640 11 cars, 15.1ms\n",
            "0: 640x640 2 cars, 51.5ms\n",
            "0: 640x640 14 cars, 1 truck-l-, 65.4ms\n",
            "0: 640x640 1 car, 640.1ms\n",
            "0: 640x640 1 car, 35.2ms\n",
            "0: 640x640 2 cars, 35.8ms\n",
            "0: 640x640 3 cars, 15.7ms\n",
            "0: 640x640 2 cars, 10.1ms\n",
            "0: 640x640 1 car, 1 small truck, 34.8ms\n",
            "0: 640x640 4 cars, 1 small truck, 36.3ms\n",
            "0: 640x640 2 cars, 1 truck-m-, 44.8ms\n",
            "0: 640x640 2 cars, 16.9ms\n",
            "0: 640x640 1 car, 30.2ms\n",
            "0: 640x640 1 car, 42.8ms\n",
            "0: 640x640 2 cars, 32.1ms\n",
            "0: 640x640 2 cars, 34.2ms\n",
            "0: 640x640 20 cars, 2 small trucks, 1 truck-s-, 11.3ms\n",
            "0: 640x640 1 car, 45.9ms\n",
            "0: 640x640 3 cars, 1 small truck, 25.6ms\n",
            "0: 640x640 3 cars, 68.8ms\n",
            "0: 640x640 3 cars, 26.8ms\n",
            "0: 640x640 5 cars, 28.2ms\n",
            "0: 640x640 3 cars, 8.3ms\n",
            "0: 640x640 5 cars, 41.0ms\n",
            "0: 640x640 1 car, 29.9ms\n",
            "0: 640x640 1 car, 60.3ms\n",
            "0: 640x640 3 cars, 19.3ms\n",
            "0: 640x640 4 cars, 21.4ms\n",
            "0: 640x640 4 cars, 19.3ms\n",
            "0: 640x640 3 cars, 8.6ms\n",
            "0: 640x640 4 cars, 37.0ms\n",
            "0: 640x640 5 cars, 56.6ms\n",
            "0: 640x640 5 cars, 11.9ms\n",
            "0: 640x640 4 cars, 23.2ms\n",
            "0: 640x640 2 cars, 17.5ms\n",
            "0: 640x640 1 car, 34.4ms\n",
            "0: 640x640 3 cars, 16.6ms\n",
            "0: 640x640 3 cars, 24.7ms\n",
            "0: 640x640 1 car, 54.2ms\n",
            "0: 640x640 3 cars, 37.9ms\n",
            "0: 640x640 4 cars, 8.9ms\n",
            "0: 640x640 2 cars, 34.1ms\n",
            "0: 640x640 3 cars, 11.6ms\n",
            "0: 640x640 1 car, 30.2ms\n",
            "0: 640x640 5 cars, 30.8ms\n",
            "0: 640x640 2 cars, 8.9ms\n",
            "0: 640x640 3 cars, 100.8ms\n",
            "0: 640x640 3 cars, 40.6ms\n",
            "0: 640x640 2 cars, 52.2ms\n",
            "0: 640x640 2 cars, 35.3ms\n",
            "0: 640x640 2 cars, 17.0ms\n",
            "0: 640x640 2 cars, 41.2ms\n",
            "0: 640x640 2 cars, 38.1ms\n",
            "0: 640x640 1 car, 25.5ms\n",
            "0: 640x640 2 cars, 1 small truck, 10.2ms\n",
            "0: 640x640 3 cars, 21.7ms\n",
            "0: 640x640 1 car, 20.0ms\n",
            "0: 640x640 2 cars, 18.5ms\n",
            "0: 640x640 1 car, 14.3ms\n",
            "0: 640x640 3 cars, 44.1ms\n",
            "0: 640x640 2 cars, 22.4ms\n",
            "0: 640x640 1 car, 45.2ms\n",
            "0: 640x640 2 cars, 15.4ms\n",
            "0: 640x640 2 cars, 49.0ms\n",
            "0: 640x640 2 cars, 17.3ms\n",
            "0: 640x640 2 cars, 37.7ms\n",
            "0: 640x640 3 cars, 47.8ms\n",
            "0: 640x640 1 car, 62.3ms\n",
            "0: 640x640 3 cars, 59.7ms\n",
            "0: 640x640 4 cars, 63.2ms\n",
            "0: 640x640 16 cars, 1 small truck, 63.6ms\n",
            "0: 640x640 1 car, 58.2ms\n",
            "0: 640x640 6 cars, 59.7ms\n",
            "0: 640x640 2 cars, 19.8ms\n",
            "0: 640x640 2 cars, 8.6ms\n",
            "0: 640x640 5 cars, 12.2ms\n",
            "0: 640x640 3 cars, 37.5ms\n",
            "0: 640x640 1 car, 18.6ms\n",
            "0: 640x640 4 cars, 39.0ms\n",
            "0: 640x640 4 cars, 56.6ms\n",
            "0: 640x640 4 cars, 35.8ms\n",
            "0: 640x640 3 cars, 25.6ms\n",
            "0: 640x640 4 cars, 42.2ms\n",
            "0: 640x640 4 cars, 51.0ms\n",
            "0: 640x640 3 cars, 8.6ms\n",
            "0: 640x640 5 cars, 37.8ms\n",
            "0: 640x640 4 cars, 56.0ms\n",
            "0: 640x640 2 cars, 25.7ms\n",
            "0: 640x640 3 cars, 56.4ms\n",
            "0: 640x640 1 car, 49.3ms\n",
            "0: 640x640 1 car, 43.3ms\n",
            "0: 640x640 5 cars, 1 small truck, 48.7ms\n",
            "0: 640x640 5 cars, 1 small truck, 65.0ms\n",
            "0: 640x640 2 cars, 107.1ms\n",
            "0: 640x640 2 cars, 45.4ms\n",
            "0: 640x640 2 cars, 25.2ms\n",
            "0: 640x640 6 cars, 1 small truck, 1 truck-l-, 1 truck-m-, 20.3ms\n",
            "0: 640x640 1 car, 43.5ms\n",
            "0: 640x640 2 cars, 30.5ms\n",
            "0: 640x640 4 cars, 1 small truck, 1 truck-l-, 1 truck-m-, 8.8ms\n",
            "0: 640x640 5 cars, 2 small trucks, 8.6ms\n",
            "0: 640x640 2 cars, 36.0ms\n",
            "0: 640x640 4 cars, 1 truck-l-, 18.1ms\n",
            "0: 640x640 1 car, 27.1ms\n",
            "0: 640x640 1 car, 7.9ms\n",
            "0: 640x640 2 cars, 1 small truck, 40.0ms\n",
            "0: 640x640 1 car, 15.3ms\n",
            "0: 640x640 4 cars, 40.8ms\n",
            "0: 640x640 1 car, 50.4ms\n",
            "0: 640x640 1 car, 25.7ms\n",
            "0: 640x640 5 cars, 24.6ms\n",
            "0: 640x640 1 car, 23.5ms\n",
            "0: 640x640 1 car, 25.4ms\n",
            "0: 640x640 3 cars, 1 small truck, 1 truck-m-, 1 truck-s-, 33.4ms\n",
            "0: 640x640 3 cars, 1 truck-l-, 1 truck-m-, 19.9ms\n",
            "0: 640x640 1 car, 1 small truck, 1 truck-l-, 1 truck-m-, 37.8ms\n",
            "0: 640x640 3 cars, 1 small truck, 21.7ms\n",
            "0: 640x640 1 car, 2 small trucks, 57.1ms\n",
            "0: 640x640 3 cars, 2 small trucks, 1 truck-m-, 28.9ms\n",
            "0: 640x640 2 cars, 2 small trucks, 1 truck-m-, 28.9ms\n",
            "0: 640x640 1 car, 27.0ms\n",
            "0: 640x640 1 big truck, 8 cars, 1 small truck, 32.3ms\n",
            "0: 640x640 4 cars, 1 small truck, 1 truck-l-, 1 truck-s-, 22.5ms\n",
            "0: 640x640 2 cars, 27.8ms\n",
            "0: 640x640 8 cars, 1 small truck, 9.7ms\n",
            "0: 640x640 7 cars, 1 small truck, 53.9ms\n",
            "0: 640x640 8 cars, 1 small truck, 55.9ms\n",
            "0: 640x640 7 cars, 1 small truck, 1 truck-l-, 1 truck-s-, 33.7ms\n",
            "0: 640x640 5 cars, 1 small truck, 2 truck-m-s, 8.0ms\n",
            "0: 640x640 4 cars, 1 small truck, 2 truck-m-s, 33.4ms\n",
            "0: 640x640 2 cars, 2 small trucks, 1 truck-l-, 3 truck-m-s, 8.4ms\n",
            "0: 640x640 3 cars, 1 small truck, 1 truck-m-, 27.7ms\n",
            "0: 640x640 5 cars, 3 small trucks, 1 truck-m-, 67.7ms\n",
            "0: 640x640 4 cars, 1 small truck, 35.3ms\n",
            "0: 640x640 1 car, 46.1ms\n",
            "0: 640x640 1 car, 11.3ms\n",
            "0: 640x640 1 car, 46.6ms\n",
            "0: 640x640 6 cars, 2 small trucks, 1 truck-m-, 33.9ms\n",
            "0: 640x640 4 cars, 3 small trucks, 2 truck-l-s, 55.4ms\n",
            "0: 640x640 2 cars, 48.8ms\n",
            "0: 640x640 5 cars, 3 small trucks, 27.3ms\n",
            "0: 640x640 6 cars, 1 truck-l-, 44.1ms\n",
            "0: 640x640 2 cars, 72.4ms\n",
            "0: 640x640 1 car, 17.8ms\n",
            "0: 640x640 8 cars, 75.3ms\n",
            "0: 640x640 1 car, 11.4ms\n",
            "0: 640x640 1 car, 19.4ms\n",
            "0: 640x640 11 cars, 2 small trucks, 1 truck-l-, 36.7ms\n",
            "0: 640x640 1 car, 9.0ms\n",
            "0: 640x640 2 cars, 46.3ms\n",
            "0: 640x640 11 cars, 1 small truck, 15.1ms\n",
            "0: 640x640 4 cars, 21.3ms\n",
            "0: 640x640 12 cars, 2 small trucks, 59.6ms\n",
            "0: 640x640 8 cars, 2 small trucks, 35.8ms\n",
            "0: 640x640 7 cars, 1 small truck, 1 truck-m-, 11.9ms\n",
            "0: 640x640 9 cars, 11.1ms\n",
            "0: 640x640 1 car, 20.5ms\n",
            "0: 640x640 1 car, 28.9ms\n",
            "0: 640x640 8 cars, 3 small trucks, 1 truck-m-, 43.8ms\n",
            "0: 640x640 1 car, 33.1ms\n",
            "0: 640x640 3 cars, 44.9ms\n",
            "0: 640x640 1 car, 26.1ms\n",
            "0: 640x640 2 cars, 28.2ms\n",
            "0: 640x640 8 cars, 1 truck-m-, 32.6ms\n",
            "0: 640x640 3 cars, 36.3ms\n",
            "0: 640x640 3 cars, 59.7ms\n",
            "0: 640x640 7 cars, 75.3ms\n",
            "0: 640x640 4 cars, 36.5ms\n",
            "0: 640x640 2 cars, 44.9ms\n",
            "0: 640x640 3 cars, 42.6ms\n",
            "0: 640x640 3 cars, 48.7ms\n",
            "0: 640x640 2 cars, 36.7ms\n",
            "0: 640x640 1 car, 47.6ms\n",
            "0: 640x640 1 car, 54.1ms\n",
            "0: 640x640 1 car, 10.7ms\n",
            "0: 640x640 2 cars, 20.5ms\n",
            "0: 640x640 1 car, 8.7ms\n",
            "0: 640x640 2 cars, 33.7ms\n",
            "0: 640x640 3 cars, 2 small trucks, 1 truck-l-, 1 truck-xl-, 10.9ms\n",
            "0: 640x640 5 cars, 1 small truck, 1 truck-l-, 1 truck-m-, 1 truck-xl-, 19.0ms\n",
            "0: 640x640 1 car, 2 small trucks, 25.8ms\n",
            "0: 640x640 3 cars, 2 small trucks, 3 truck-l-s, 32.4ms\n",
            "0: 640x640 4 cars, 1 truck-l-, 2 truck-m-s, 33.9ms\n",
            "0: 640x640 2 cars, 57.3ms\n",
            "0: 640x640 2 cars, 9.3ms\n",
            "0: 640x640 2 cars, 31.6ms\n",
            "0: 640x640 2 cars, 52.8ms\n",
            "0: 640x640 9 cars, 1 small truck, 2 truck-l-s, 2 truck-m-s, 51.7ms\n",
            "0: 640x640 1 car, 40.8ms\n",
            "0: 640x640 11 cars, 1 truck-l-, 16.5ms\n",
            "0: 640x640 4 cars, 16.2ms\n",
            "0: 640x640 2 cars, 75.3ms\n",
            "0: 640x640 1 car, 73.1ms\n",
            "0: 640x640 1 car, 11.9ms\n",
            "0: 640x640 2 cars, 32.6ms\n",
            "0: 640x640 2 cars, 39.1ms\n",
            "0: 640x640 11 cars, 1 small truck, 1 truck-l-, 1 truck-m-, 15.9ms\n",
            "0: 640x640 1 car, 9.8ms\n",
            "0: 640x640 1 car, 24.5ms\n",
            "0: 640x640 19 cars, 2 small trucks, 1 truck-l-, 3 truck-m-s, 1 truck-s-, 35.4ms\n",
            "0: 640x640 8 cars, 3 truck-m-s, 1 truck-s-, 16.3ms\n",
            "0: 640x640 3 cars, 1 small truck, 2 truck-l-s, 1 truck-m-, 7.9ms\n",
            "0: 640x640 9 cars, 1 small truck, 2 truck-l-s, 1 truck-m-, 7.8ms\n",
            "0: 640x640 6 cars, 1 truck-l-, 47.1ms\n",
            "0: 640x640 1 truck-l-, 8.0ms\n",
            "0: 640x640 1 truck-l-, 66.6ms\n",
            "0: 640x640 1 car, 1 truck-l-, 50.1ms\n",
            "0: 640x640 1 car, 42.5ms\n",
            "0: 640x640 1 car, 1 truck-l-, 9.4ms\n",
            "0: 640x640 2 cars, 1 truck-l-, 13.8ms\n",
            "0: 640x640 1 car, 27.4ms\n",
            "0: 640x640 10 cars, 1 truck-l-, 26.5ms\n",
            "0: 640x640 2 cars, 20.7ms\n",
            "0: 640x640 2 cars, 10.9ms\n",
            "0: 640x640 1 car, 20.8ms\n",
            "0: 640x640 1 car, 39.1ms\n",
            "0: 640x640 3 cars, 12.8ms\n",
            "0: 640x640 2 cars, 109.2ms\n",
            "0: 640x640 3 cars, 61.0ms\n",
            "0: 640x640 1 car, 49.1ms\n",
            "0: 640x640 1 car, 25.4ms\n",
            "0: 640x640 1 car, 79.4ms\n",
            "0: 640x640 14 cars, 2 small trucks, 1 truck-l-, 1 truck-m-, 58.5ms\n",
            "0: 640x640 10 cars, 3 small trucks, 1 truck-l-, 3 truck-m-s, 2 truck-s-s, 26.6ms\n",
            "0: 640x640 18 cars, 1 small truck, 2 truck-m-s, 1 truck-s-, 1 truck-xl-, 49.8ms\n",
            "0: 640x640 2 cars, 17.4ms\n",
            "0: 640x640 3 cars, 49.4ms\n",
            "0: 640x640 4 cars, 19.5ms\n",
            "0: 640x640 2 cars, 52.7ms\n",
            "0: 640x640 1 car, 35.7ms\n",
            "0: 640x640 2 cars, 42.6ms\n",
            "0: 640x640 4 cars, 24.2ms\n",
            "0: 640x640 1 car, 32.1ms\n",
            "0: 640x640 1 car, 53.1ms\n",
            "0: 640x640 1 car, 28.3ms\n",
            "0: 640x640 3 cars, 45.5ms\n",
            "0: 640x640 1 car, 46.2ms\n",
            "0: 640x640 1 car, 23.2ms\n",
            "0: 640x640 4 cars, 19.3ms\n",
            "0: 640x640 5 cars, 2 small trucks, 2 truck-l-s, 1 truck-m-, 1 truck-s-, 18.2ms\n",
            "0: 640x640 2 cars, 17.8ms\n",
            "0: 640x640 2 cars, 35.6ms\n",
            "0: 640x640 4 cars, 2 small trucks, 1 truck-l-, 2 truck-m-s, 1 truck-s-, 34.0ms\n",
            "0: 640x640 1 car, 31.3ms\n",
            "0: 640x640 4 cars, 28.9ms\n",
            "0: 640x640 3 cars, 2 small trucks, 2 truck-m-s, 53.6ms\n",
            "0: 640x640 4 cars, 2 small trucks, 34.0ms\n",
            "0: 640x640 3 cars, 30.6ms\n",
            "0: 640x640 2 cars, 19.5ms\n",
            "0: 640x640 2 cars, 13.2ms\n",
            "0: 640x640 1 car, 19.7ms\n",
            "0: 640x640 3 cars, 26.7ms\n",
            "0: 640x640 4 cars, 56.8ms\n",
            "0: 640x640 3 cars, 24.5ms\n",
            "0: 640x640 5 cars, 1 truck-l-, 55.8ms\n",
            "0: 640x640 4 cars, 22.1ms\n",
            "0: 640x640 4 cars, 33.9ms\n",
            "0: 640x640 3 cars, 40.3ms\n",
            "0: 640x640 5 cars, 19.6ms\n",
            "0: 640x640 6 cars, 9.7ms\n",
            "0: 640x640 7 cars, 17.3ms\n",
            "0: 640x640 8 cars, 25.5ms\n",
            "0: 640x640 6 cars, 46.8ms\n",
            "0: 640x640 5 cars, 63.3ms\n",
            "0: 640x640 5 cars, 9.0ms\n",
            "0: 640x640 4 cars, 34.2ms\n",
            "0: 640x640 2 cars, 65.4ms\n",
            "0: 640x640 19 cars, 2 small trucks, 1 truck-m-, 1 truck-s-, 8.2ms\n",
            "0: 640x640 3 cars, 18.8ms\n",
            "0: 640x640 1 car, 26.0ms\n",
            "0: 640x640 3 cars, 58.4ms\n",
            "0: 640x640 2 cars, 38.9ms\n",
            "0: 640x640 4 cars, 33.5ms\n",
            "0: 640x640 2 cars, 14.1ms\n",
            "0: 640x640 13 cars, 3 small trucks, 1 truck-xl-, 51.3ms\n",
            "0: 640x640 12 cars, 2 small trucks, 1 truck-m-, 1 truck-s-, 16.0ms\n",
            "0: 640x640 1 car, 32.6ms\n",
            "0: 640x640 1 car, 16.3ms\n",
            "0: 640x640 12 cars, 2 small trucks, 1 truck-l-, 1 truck-s-, 9.0ms\n",
            "0: 640x640 2 cars, 28.7ms\n",
            "0: 640x640 4 cars, 33.0ms\n",
            "0: 640x640 1 car, 55.8ms\n",
            "0: 640x640 3 cars, 22.7ms\n",
            "0: 640x640 1 car, 26.3ms\n",
            "0: 640x640 3 cars, 37.4ms\n",
            "0: 640x640 3 cars, 28.3ms\n",
            "0: 640x640 3 cars, 57.3ms\n",
            "0: 640x640 2 cars, 36.8ms\n",
            "0: 640x640 1 car, 48.4ms\n",
            "0: 640x640 4 cars, 99.8ms\n",
            "0: 640x640 2 cars, 55.7ms\n",
            "0: 640x640 3 cars, 39.1ms\n",
            "0: 640x640 3 cars, 36.3ms\n",
            "0: 640x640 4 cars, 43.6ms\n",
            "0: 640x640 4 cars, 45.1ms\n",
            "0: 640x640 3 cars, 66.7ms\n",
            "0: 640x640 2 cars, 13.6ms\n",
            "0: 640x640 2 cars, 71.2ms\n",
            "0: 640x640 4 cars, 1 small truck, 1 truck-l-, 1 truck-s-, 5125.3ms\n",
            "0: 640x640 3 cars, 1092.6ms\n"
          ]
        },
        {
          "ename": "KeyboardInterrupt",
          "evalue": "",
          "output_type": "error",
          "traceback": [
            "\u001b[0;31m---------------------------------------------------------------------------\u001b[0m",
            "\u001b[0;31mKeyboardInterrupt\u001b[0m                         Traceback (most recent call last)",
            "\u001b[0;32m/tmp/ipython-input-28-2189344146.py\u001b[0m in \u001b[0;36m<cell line: 0>\u001b[0;34m()\u001b[0m\n\u001b[1;32m      9\u001b[0m \u001b[0;31m# Não usei | results = model.train(data='coco8.yaml', epochs=3)  # train the model\u001b[0m\u001b[0;34m\u001b[0m\u001b[0;34m\u001b[0m\u001b[0m\n\u001b[1;32m     10\u001b[0m \u001b[0;31m# Não usei | results = model.val()  # evaluate model performance on the validation set\u001b[0m\u001b[0;34m\u001b[0m\u001b[0;34m\u001b[0m\u001b[0m\n\u001b[0;32m---> 11\u001b[0;31m \u001b[0mresults\u001b[0m \u001b[0;34m=\u001b[0m \u001b[0mmodel\u001b[0m\u001b[0;34m.\u001b[0m\u001b[0mtrack\u001b[0m\u001b[0;34m(\u001b[0m\u001b[0msource\u001b[0m \u001b[0;34m=\u001b[0m \u001b[0;34m'https://youtu.be/xEtM1I1Afhc?si=XxoAhU8kyRmyOwss'\u001b[0m\u001b[0;34m,\u001b[0m \u001b[0msave\u001b[0m \u001b[0;34m=\u001b[0m \u001b[0;32mTrue\u001b[0m\u001b[0;34m)\u001b[0m\u001b[0;34m\u001b[0m\u001b[0;34m\u001b[0m\u001b[0m\n\u001b[0m\u001b[1;32m     12\u001b[0m \u001b[0;31m# results = model.export(format='onnx')  # export the model to ONNX format\u001b[0m\u001b[0;34m\u001b[0m\u001b[0;34m\u001b[0m\u001b[0m\n\u001b[1;32m     13\u001b[0m \u001b[0;34m\u001b[0m\u001b[0m\n",
            "\u001b[0;32m/usr/local/lib/python3.11/dist-packages/ultralytics/engine/model.py\u001b[0m in \u001b[0;36mtrack\u001b[0;34m(self, source, stream, persist, **kwargs)\u001b[0m\n\u001b[1;32m    597\u001b[0m         \u001b[0mkwargs\u001b[0m\u001b[0;34m[\u001b[0m\u001b[0;34m\"batch\"\u001b[0m\u001b[0;34m]\u001b[0m \u001b[0;34m=\u001b[0m \u001b[0mkwargs\u001b[0m\u001b[0;34m.\u001b[0m\u001b[0mget\u001b[0m\u001b[0;34m(\u001b[0m\u001b[0;34m\"batch\"\u001b[0m\u001b[0;34m)\u001b[0m \u001b[0;32mor\u001b[0m \u001b[0;36m1\u001b[0m  \u001b[0;31m# batch-size 1 for tracking in videos\u001b[0m\u001b[0;34m\u001b[0m\u001b[0;34m\u001b[0m\u001b[0m\n\u001b[1;32m    598\u001b[0m         \u001b[0mkwargs\u001b[0m\u001b[0;34m[\u001b[0m\u001b[0;34m\"mode\"\u001b[0m\u001b[0;34m]\u001b[0m \u001b[0;34m=\u001b[0m \u001b[0;34m\"track\"\u001b[0m\u001b[0;34m\u001b[0m\u001b[0;34m\u001b[0m\u001b[0m\n\u001b[0;32m--> 599\u001b[0;31m         \u001b[0;32mreturn\u001b[0m \u001b[0mself\u001b[0m\u001b[0;34m.\u001b[0m\u001b[0mpredict\u001b[0m\u001b[0;34m(\u001b[0m\u001b[0msource\u001b[0m\u001b[0;34m=\u001b[0m\u001b[0msource\u001b[0m\u001b[0;34m,\u001b[0m \u001b[0mstream\u001b[0m\u001b[0;34m=\u001b[0m\u001b[0mstream\u001b[0m\u001b[0;34m,\u001b[0m \u001b[0;34m**\u001b[0m\u001b[0mkwargs\u001b[0m\u001b[0;34m)\u001b[0m\u001b[0;34m\u001b[0m\u001b[0;34m\u001b[0m\u001b[0m\n\u001b[0m\u001b[1;32m    600\u001b[0m \u001b[0;34m\u001b[0m\u001b[0m\n\u001b[1;32m    601\u001b[0m     def val(\n",
            "\u001b[0;32m/usr/local/lib/python3.11/dist-packages/ultralytics/engine/model.py\u001b[0m in \u001b[0;36mpredict\u001b[0;34m(self, source, stream, predictor, **kwargs)\u001b[0m\n\u001b[1;32m    553\u001b[0m         \u001b[0;32mif\u001b[0m \u001b[0mprompts\u001b[0m \u001b[0;32mand\u001b[0m \u001b[0mhasattr\u001b[0m\u001b[0;34m(\u001b[0m\u001b[0mself\u001b[0m\u001b[0;34m.\u001b[0m\u001b[0mpredictor\u001b[0m\u001b[0;34m,\u001b[0m \u001b[0;34m\"set_prompts\"\u001b[0m\u001b[0;34m)\u001b[0m\u001b[0;34m:\u001b[0m  \u001b[0;31m# for SAM-type models\u001b[0m\u001b[0;34m\u001b[0m\u001b[0;34m\u001b[0m\u001b[0m\n\u001b[1;32m    554\u001b[0m             \u001b[0mself\u001b[0m\u001b[0;34m.\u001b[0m\u001b[0mpredictor\u001b[0m\u001b[0;34m.\u001b[0m\u001b[0mset_prompts\u001b[0m\u001b[0;34m(\u001b[0m\u001b[0mprompts\u001b[0m\u001b[0;34m)\u001b[0m\u001b[0;34m\u001b[0m\u001b[0;34m\u001b[0m\u001b[0m\n\u001b[0;32m--> 555\u001b[0;31m         \u001b[0;32mreturn\u001b[0m \u001b[0mself\u001b[0m\u001b[0;34m.\u001b[0m\u001b[0mpredictor\u001b[0m\u001b[0;34m.\u001b[0m\u001b[0mpredict_cli\u001b[0m\u001b[0;34m(\u001b[0m\u001b[0msource\u001b[0m\u001b[0;34m=\u001b[0m\u001b[0msource\u001b[0m\u001b[0;34m)\u001b[0m \u001b[0;32mif\u001b[0m \u001b[0mis_cli\u001b[0m \u001b[0;32melse\u001b[0m \u001b[0mself\u001b[0m\u001b[0;34m.\u001b[0m\u001b[0mpredictor\u001b[0m\u001b[0;34m(\u001b[0m\u001b[0msource\u001b[0m\u001b[0;34m=\u001b[0m\u001b[0msource\u001b[0m\u001b[0;34m,\u001b[0m \u001b[0mstream\u001b[0m\u001b[0;34m=\u001b[0m\u001b[0mstream\u001b[0m\u001b[0;34m)\u001b[0m\u001b[0;34m\u001b[0m\u001b[0;34m\u001b[0m\u001b[0m\n\u001b[0m\u001b[1;32m    556\u001b[0m \u001b[0;34m\u001b[0m\u001b[0m\n\u001b[1;32m    557\u001b[0m     def track(\n",
            "\u001b[0;32m/usr/local/lib/python3.11/dist-packages/ultralytics/engine/predictor.py\u001b[0m in \u001b[0;36m__call__\u001b[0;34m(self, source, model, stream, *args, **kwargs)\u001b[0m\n\u001b[1;32m    225\u001b[0m             \u001b[0;32mreturn\u001b[0m \u001b[0mself\u001b[0m\u001b[0;34m.\u001b[0m\u001b[0mstream_inference\u001b[0m\u001b[0;34m(\u001b[0m\u001b[0msource\u001b[0m\u001b[0;34m,\u001b[0m \u001b[0mmodel\u001b[0m\u001b[0;34m,\u001b[0m \u001b[0;34m*\u001b[0m\u001b[0margs\u001b[0m\u001b[0;34m,\u001b[0m \u001b[0;34m**\u001b[0m\u001b[0mkwargs\u001b[0m\u001b[0;34m)\u001b[0m\u001b[0;34m\u001b[0m\u001b[0;34m\u001b[0m\u001b[0m\n\u001b[1;32m    226\u001b[0m         \u001b[0;32melse\u001b[0m\u001b[0;34m:\u001b[0m\u001b[0;34m\u001b[0m\u001b[0;34m\u001b[0m\u001b[0m\n\u001b[0;32m--> 227\u001b[0;31m             \u001b[0;32mreturn\u001b[0m \u001b[0mlist\u001b[0m\u001b[0;34m(\u001b[0m\u001b[0mself\u001b[0m\u001b[0;34m.\u001b[0m\u001b[0mstream_inference\u001b[0m\u001b[0;34m(\u001b[0m\u001b[0msource\u001b[0m\u001b[0;34m,\u001b[0m \u001b[0mmodel\u001b[0m\u001b[0;34m,\u001b[0m \u001b[0;34m*\u001b[0m\u001b[0margs\u001b[0m\u001b[0;34m,\u001b[0m \u001b[0;34m**\u001b[0m\u001b[0mkwargs\u001b[0m\u001b[0;34m)\u001b[0m\u001b[0;34m)\u001b[0m  \u001b[0;31m# merge list of Result into one\u001b[0m\u001b[0;34m\u001b[0m\u001b[0;34m\u001b[0m\u001b[0m\n\u001b[0m\u001b[1;32m    228\u001b[0m \u001b[0;34m\u001b[0m\u001b[0m\n\u001b[1;32m    229\u001b[0m     \u001b[0;32mdef\u001b[0m \u001b[0mpredict_cli\u001b[0m\u001b[0;34m(\u001b[0m\u001b[0mself\u001b[0m\u001b[0;34m,\u001b[0m \u001b[0msource\u001b[0m\u001b[0;34m=\u001b[0m\u001b[0;32mNone\u001b[0m\u001b[0;34m,\u001b[0m \u001b[0mmodel\u001b[0m\u001b[0;34m=\u001b[0m\u001b[0;32mNone\u001b[0m\u001b[0;34m)\u001b[0m\u001b[0;34m:\u001b[0m\u001b[0;34m\u001b[0m\u001b[0;34m\u001b[0m\u001b[0m\n",
            "\u001b[0;32m/usr/local/lib/python3.11/dist-packages/torch/utils/_contextlib.py\u001b[0m in \u001b[0;36mgenerator_context\u001b[0;34m(*args, **kwargs)\u001b[0m\n\u001b[1;32m     55\u001b[0m                     \u001b[0;31m# Pass the last request to the generator and get its response\u001b[0m\u001b[0;34m\u001b[0m\u001b[0;34m\u001b[0m\u001b[0m\n\u001b[1;32m     56\u001b[0m                     \u001b[0;32mwith\u001b[0m \u001b[0mctx_factory\u001b[0m\u001b[0;34m(\u001b[0m\u001b[0;34m)\u001b[0m\u001b[0;34m:\u001b[0m\u001b[0;34m\u001b[0m\u001b[0;34m\u001b[0m\u001b[0m\n\u001b[0;32m---> 57\u001b[0;31m                         \u001b[0mresponse\u001b[0m \u001b[0;34m=\u001b[0m \u001b[0mgen\u001b[0m\u001b[0;34m.\u001b[0m\u001b[0msend\u001b[0m\u001b[0;34m(\u001b[0m\u001b[0mrequest\u001b[0m\u001b[0;34m)\u001b[0m\u001b[0;34m\u001b[0m\u001b[0;34m\u001b[0m\u001b[0m\n\u001b[0m\u001b[1;32m     58\u001b[0m \u001b[0;34m\u001b[0m\u001b[0m\n\u001b[1;32m     59\u001b[0m         \u001b[0;31m# We let the exceptions raised above by the generator's `.throw` or\u001b[0m\u001b[0;34m\u001b[0m\u001b[0;34m\u001b[0m\u001b[0m\n",
            "\u001b[0;32m/usr/local/lib/python3.11/dist-packages/ultralytics/engine/predictor.py\u001b[0m in \u001b[0;36mstream_inference\u001b[0;34m(self, source, model, *args, **kwargs)\u001b[0m\n\u001b[1;32m    328\u001b[0m                 \u001b[0;31m# Inference\u001b[0m\u001b[0;34m\u001b[0m\u001b[0;34m\u001b[0m\u001b[0m\n\u001b[1;32m    329\u001b[0m                 \u001b[0;32mwith\u001b[0m \u001b[0mprofilers\u001b[0m\u001b[0;34m[\u001b[0m\u001b[0;36m1\u001b[0m\u001b[0;34m]\u001b[0m\u001b[0;34m:\u001b[0m\u001b[0;34m\u001b[0m\u001b[0;34m\u001b[0m\u001b[0m\n\u001b[0;32m--> 330\u001b[0;31m                     \u001b[0mpreds\u001b[0m \u001b[0;34m=\u001b[0m \u001b[0mself\u001b[0m\u001b[0;34m.\u001b[0m\u001b[0minference\u001b[0m\u001b[0;34m(\u001b[0m\u001b[0mim\u001b[0m\u001b[0;34m,\u001b[0m \u001b[0;34m*\u001b[0m\u001b[0margs\u001b[0m\u001b[0;34m,\u001b[0m \u001b[0;34m**\u001b[0m\u001b[0mkwargs\u001b[0m\u001b[0;34m)\u001b[0m\u001b[0;34m\u001b[0m\u001b[0;34m\u001b[0m\u001b[0m\n\u001b[0m\u001b[1;32m    331\u001b[0m                     \u001b[0;32mif\u001b[0m \u001b[0mself\u001b[0m\u001b[0;34m.\u001b[0m\u001b[0margs\u001b[0m\u001b[0;34m.\u001b[0m\u001b[0membed\u001b[0m\u001b[0;34m:\u001b[0m\u001b[0;34m\u001b[0m\u001b[0;34m\u001b[0m\u001b[0m\n\u001b[1;32m    332\u001b[0m                         \u001b[0;32myield\u001b[0m \u001b[0;32mfrom\u001b[0m \u001b[0;34m[\u001b[0m\u001b[0mpreds\u001b[0m\u001b[0;34m]\u001b[0m \u001b[0;32mif\u001b[0m \u001b[0misinstance\u001b[0m\u001b[0;34m(\u001b[0m\u001b[0mpreds\u001b[0m\u001b[0;34m,\u001b[0m \u001b[0mtorch\u001b[0m\u001b[0;34m.\u001b[0m\u001b[0mTensor\u001b[0m\u001b[0;34m)\u001b[0m \u001b[0;32melse\u001b[0m \u001b[0mpreds\u001b[0m  \u001b[0;31m# yield embedding tensors\u001b[0m\u001b[0;34m\u001b[0m\u001b[0;34m\u001b[0m\u001b[0m\n",
            "\u001b[0;32m/usr/local/lib/python3.11/dist-packages/ultralytics/engine/predictor.py\u001b[0m in \u001b[0;36minference\u001b[0;34m(self, im, *args, **kwargs)\u001b[0m\n\u001b[1;32m    180\u001b[0m             \u001b[0;32melse\u001b[0m \u001b[0;32mFalse\u001b[0m\u001b[0;34m\u001b[0m\u001b[0;34m\u001b[0m\u001b[0m\n\u001b[1;32m    181\u001b[0m         )\n\u001b[0;32m--> 182\u001b[0;31m         \u001b[0;32mreturn\u001b[0m \u001b[0mself\u001b[0m\u001b[0;34m.\u001b[0m\u001b[0mmodel\u001b[0m\u001b[0;34m(\u001b[0m\u001b[0mim\u001b[0m\u001b[0;34m,\u001b[0m \u001b[0maugment\u001b[0m\u001b[0;34m=\u001b[0m\u001b[0mself\u001b[0m\u001b[0;34m.\u001b[0m\u001b[0margs\u001b[0m\u001b[0;34m.\u001b[0m\u001b[0maugment\u001b[0m\u001b[0;34m,\u001b[0m \u001b[0mvisualize\u001b[0m\u001b[0;34m=\u001b[0m\u001b[0mvisualize\u001b[0m\u001b[0;34m,\u001b[0m \u001b[0membed\u001b[0m\u001b[0;34m=\u001b[0m\u001b[0mself\u001b[0m\u001b[0;34m.\u001b[0m\u001b[0margs\u001b[0m\u001b[0;34m.\u001b[0m\u001b[0membed\u001b[0m\u001b[0;34m,\u001b[0m \u001b[0;34m*\u001b[0m\u001b[0margs\u001b[0m\u001b[0;34m,\u001b[0m \u001b[0;34m**\u001b[0m\u001b[0mkwargs\u001b[0m\u001b[0;34m)\u001b[0m\u001b[0;34m\u001b[0m\u001b[0;34m\u001b[0m\u001b[0m\n\u001b[0m\u001b[1;32m    183\u001b[0m \u001b[0;34m\u001b[0m\u001b[0m\n\u001b[1;32m    184\u001b[0m     \u001b[0;32mdef\u001b[0m \u001b[0mpre_transform\u001b[0m\u001b[0;34m(\u001b[0m\u001b[0mself\u001b[0m\u001b[0;34m,\u001b[0m \u001b[0mim\u001b[0m\u001b[0;34m:\u001b[0m \u001b[0mList\u001b[0m\u001b[0;34m[\u001b[0m\u001b[0mnp\u001b[0m\u001b[0;34m.\u001b[0m\u001b[0mndarray\u001b[0m\u001b[0;34m]\u001b[0m\u001b[0;34m)\u001b[0m \u001b[0;34m->\u001b[0m \u001b[0mList\u001b[0m\u001b[0;34m[\u001b[0m\u001b[0mnp\u001b[0m\u001b[0;34m.\u001b[0m\u001b[0mndarray\u001b[0m\u001b[0;34m]\u001b[0m\u001b[0;34m:\u001b[0m\u001b[0;34m\u001b[0m\u001b[0;34m\u001b[0m\u001b[0m\n",
            "\u001b[0;32m/usr/local/lib/python3.11/dist-packages/torch/nn/modules/module.py\u001b[0m in \u001b[0;36m_wrapped_call_impl\u001b[0;34m(self, *args, **kwargs)\u001b[0m\n\u001b[1;32m   1737\u001b[0m             \u001b[0;32mreturn\u001b[0m \u001b[0mself\u001b[0m\u001b[0;34m.\u001b[0m\u001b[0m_compiled_call_impl\u001b[0m\u001b[0;34m(\u001b[0m\u001b[0;34m*\u001b[0m\u001b[0margs\u001b[0m\u001b[0;34m,\u001b[0m \u001b[0;34m**\u001b[0m\u001b[0mkwargs\u001b[0m\u001b[0;34m)\u001b[0m  \u001b[0;31m# type: ignore[misc]\u001b[0m\u001b[0;34m\u001b[0m\u001b[0;34m\u001b[0m\u001b[0m\n\u001b[1;32m   1738\u001b[0m         \u001b[0;32melse\u001b[0m\u001b[0;34m:\u001b[0m\u001b[0;34m\u001b[0m\u001b[0;34m\u001b[0m\u001b[0m\n\u001b[0;32m-> 1739\u001b[0;31m             \u001b[0;32mreturn\u001b[0m \u001b[0mself\u001b[0m\u001b[0;34m.\u001b[0m\u001b[0m_call_impl\u001b[0m\u001b[0;34m(\u001b[0m\u001b[0;34m*\u001b[0m\u001b[0margs\u001b[0m\u001b[0;34m,\u001b[0m \u001b[0;34m**\u001b[0m\u001b[0mkwargs\u001b[0m\u001b[0;34m)\u001b[0m\u001b[0;34m\u001b[0m\u001b[0;34m\u001b[0m\u001b[0m\n\u001b[0m\u001b[1;32m   1740\u001b[0m \u001b[0;34m\u001b[0m\u001b[0m\n\u001b[1;32m   1741\u001b[0m     \u001b[0;31m# torchrec tests the code consistency with the following code\u001b[0m\u001b[0;34m\u001b[0m\u001b[0;34m\u001b[0m\u001b[0m\n",
            "\u001b[0;32m/usr/local/lib/python3.11/dist-packages/torch/nn/modules/module.py\u001b[0m in \u001b[0;36m_call_impl\u001b[0;34m(self, *args, **kwargs)\u001b[0m\n\u001b[1;32m   1748\u001b[0m                 \u001b[0;32mor\u001b[0m \u001b[0m_global_backward_pre_hooks\u001b[0m \u001b[0;32mor\u001b[0m \u001b[0m_global_backward_hooks\u001b[0m\u001b[0;34m\u001b[0m\u001b[0;34m\u001b[0m\u001b[0m\n\u001b[1;32m   1749\u001b[0m                 or _global_forward_hooks or _global_forward_pre_hooks):\n\u001b[0;32m-> 1750\u001b[0;31m             \u001b[0;32mreturn\u001b[0m \u001b[0mforward_call\u001b[0m\u001b[0;34m(\u001b[0m\u001b[0;34m*\u001b[0m\u001b[0margs\u001b[0m\u001b[0;34m,\u001b[0m \u001b[0;34m**\u001b[0m\u001b[0mkwargs\u001b[0m\u001b[0;34m)\u001b[0m\u001b[0;34m\u001b[0m\u001b[0;34m\u001b[0m\u001b[0m\n\u001b[0m\u001b[1;32m   1751\u001b[0m \u001b[0;34m\u001b[0m\u001b[0m\n\u001b[1;32m   1752\u001b[0m         \u001b[0mresult\u001b[0m \u001b[0;34m=\u001b[0m \u001b[0;32mNone\u001b[0m\u001b[0;34m\u001b[0m\u001b[0;34m\u001b[0m\u001b[0m\n",
            "\u001b[0;32m/usr/local/lib/python3.11/dist-packages/ultralytics/nn/autobackend.py\u001b[0m in \u001b[0;36mforward\u001b[0;34m(self, im, augment, visualize, embed, **kwargs)\u001b[0m\n\u001b[1;32m    638\u001b[0m         \u001b[0;31m# TorchScript\u001b[0m\u001b[0;34m\u001b[0m\u001b[0;34m\u001b[0m\u001b[0m\n\u001b[1;32m    639\u001b[0m         \u001b[0;32melif\u001b[0m \u001b[0mself\u001b[0m\u001b[0;34m.\u001b[0m\u001b[0mjit\u001b[0m\u001b[0;34m:\u001b[0m\u001b[0;34m\u001b[0m\u001b[0;34m\u001b[0m\u001b[0m\n\u001b[0;32m--> 640\u001b[0;31m             \u001b[0my\u001b[0m \u001b[0;34m=\u001b[0m \u001b[0mself\u001b[0m\u001b[0;34m.\u001b[0m\u001b[0mmodel\u001b[0m\u001b[0;34m(\u001b[0m\u001b[0mim\u001b[0m\u001b[0;34m)\u001b[0m\u001b[0;34m\u001b[0m\u001b[0;34m\u001b[0m\u001b[0m\n\u001b[0m\u001b[1;32m    641\u001b[0m \u001b[0;34m\u001b[0m\u001b[0m\n\u001b[1;32m    642\u001b[0m         \u001b[0;31m# ONNX OpenCV DNN\u001b[0m\u001b[0;34m\u001b[0m\u001b[0;34m\u001b[0m\u001b[0m\n",
            "\u001b[0;32m/usr/local/lib/python3.11/dist-packages/torch/nn/modules/module.py\u001b[0m in \u001b[0;36m_wrapped_call_impl\u001b[0;34m(self, *args, **kwargs)\u001b[0m\n\u001b[1;32m   1737\u001b[0m             \u001b[0;32mreturn\u001b[0m \u001b[0mself\u001b[0m\u001b[0;34m.\u001b[0m\u001b[0m_compiled_call_impl\u001b[0m\u001b[0;34m(\u001b[0m\u001b[0;34m*\u001b[0m\u001b[0margs\u001b[0m\u001b[0;34m,\u001b[0m \u001b[0;34m**\u001b[0m\u001b[0mkwargs\u001b[0m\u001b[0;34m)\u001b[0m  \u001b[0;31m# type: ignore[misc]\u001b[0m\u001b[0;34m\u001b[0m\u001b[0;34m\u001b[0m\u001b[0m\n\u001b[1;32m   1738\u001b[0m         \u001b[0;32melse\u001b[0m\u001b[0;34m:\u001b[0m\u001b[0;34m\u001b[0m\u001b[0;34m\u001b[0m\u001b[0m\n\u001b[0;32m-> 1739\u001b[0;31m             \u001b[0;32mreturn\u001b[0m \u001b[0mself\u001b[0m\u001b[0;34m.\u001b[0m\u001b[0m_call_impl\u001b[0m\u001b[0;34m(\u001b[0m\u001b[0;34m*\u001b[0m\u001b[0margs\u001b[0m\u001b[0;34m,\u001b[0m \u001b[0;34m**\u001b[0m\u001b[0mkwargs\u001b[0m\u001b[0;34m)\u001b[0m\u001b[0;34m\u001b[0m\u001b[0;34m\u001b[0m\u001b[0m\n\u001b[0m\u001b[1;32m   1740\u001b[0m \u001b[0;34m\u001b[0m\u001b[0m\n\u001b[1;32m   1741\u001b[0m     \u001b[0;31m# torchrec tests the code consistency with the following code\u001b[0m\u001b[0;34m\u001b[0m\u001b[0;34m\u001b[0m\u001b[0m\n",
            "\u001b[0;32m/usr/local/lib/python3.11/dist-packages/torch/nn/modules/module.py\u001b[0m in \u001b[0;36m_call_impl\u001b[0;34m(self, *args, **kwargs)\u001b[0m\n\u001b[1;32m   1748\u001b[0m                 \u001b[0;32mor\u001b[0m \u001b[0m_global_backward_pre_hooks\u001b[0m \u001b[0;32mor\u001b[0m \u001b[0m_global_backward_hooks\u001b[0m\u001b[0;34m\u001b[0m\u001b[0;34m\u001b[0m\u001b[0m\n\u001b[1;32m   1749\u001b[0m                 or _global_forward_hooks or _global_forward_pre_hooks):\n\u001b[0;32m-> 1750\u001b[0;31m             \u001b[0;32mreturn\u001b[0m \u001b[0mforward_call\u001b[0m\u001b[0;34m(\u001b[0m\u001b[0;34m*\u001b[0m\u001b[0margs\u001b[0m\u001b[0;34m,\u001b[0m \u001b[0;34m**\u001b[0m\u001b[0mkwargs\u001b[0m\u001b[0;34m)\u001b[0m\u001b[0;34m\u001b[0m\u001b[0;34m\u001b[0m\u001b[0m\n\u001b[0m\u001b[1;32m   1751\u001b[0m \u001b[0;34m\u001b[0m\u001b[0m\n\u001b[1;32m   1752\u001b[0m         \u001b[0mresult\u001b[0m \u001b[0;34m=\u001b[0m \u001b[0;32mNone\u001b[0m\u001b[0;34m\u001b[0m\u001b[0;34m\u001b[0m\u001b[0m\n",
            "\u001b[0;31mKeyboardInterrupt\u001b[0m: "
          ]
        }
      ],
      "source": [
        "from ultralytics import YOLO\n",
        "\n",
        "# Load a model\n",
        "# Não usei | model = YOLO('yolo11n.yaml')  # build a new model from scratch\n",
        "# Copiar caminho do \"best.torchscript\"\n",
        "model = YOLO('/content/runs/detect/train5/weights/best.torchscript')  # load a pretrained model (recommended for training)\n",
        "\n",
        "# Use the model\n",
        "# Não usei | results = model.train(data='coco8.yaml', epochs=3)  # train the model\n",
        "# Não usei | results = model.val()  # evaluate model performance on the validation set\n",
        "results = model.track(source = 'https://youtu.be/xEtM1I1Afhc?si=XxoAhU8kyRmyOwss', save = True)\n",
        "# results = model.export(format='onnx')  # export the model to ONNX format\n",
        "\n"
      ]
    },
    {
      "cell_type": "markdown",
      "metadata": {
        "id": "Phm9ccmOKye5"
      },
      "source": [
        "# 6. Tasks\n",
        "\n",
        "YOLO11 can train, val, predict and export models for the most common tasks in vision AI: [Detect](https://docs.ultralytics.com/tasks/detect/), [Segment](https://docs.ultralytics.com/tasks/segment/), [Classify](https://docs.ultralytics.com/tasks/classify/) and [Pose](https://docs.ultralytics.com/tasks/pose/). See [YOLO11 Tasks Docs](https://docs.ultralytics.com/tasks/) for more information.\n",
        "\n",
        "<br><img width=\"1024\" src=\"https://raw.githubusercontent.com/ultralytics/assets/main/im/banner-tasks.png\">\n"
      ]
    },
    {
      "cell_type": "markdown",
      "metadata": {
        "id": "yq26lwpYK1lq"
      },
      "source": [
        "## 1. Detection\n",
        "\n",
        "YOLO11 _detection_ models have no suffix and are the default YOLO11 models, i.e. `yolo11n.pt` and are pretrained on COCO. See [Detection Docs](https://docs.ultralytics.com/tasks/detect/) for full details.\n"
      ]
    },
    {
      "cell_type": "code",
      "execution_count": null,
      "metadata": {
        "colab": {
          "base_uri": "https://localhost:8080/"
        },
        "id": "8Go5qqS9LbC5",
        "outputId": "de716e61-18f5-4069-9338-d5ad6372b7ec"
      },
      "outputs": [
        {
          "name": "stdout",
          "output_type": "stream",
          "text": [
            "Ultralytics 8.3.158 🚀 Python-3.11.13 torch-2.6.0+cu124 CUDA:0 (Tesla T4, 15095MiB)\n",
            "\u001b[34m\u001b[1mengine/trainer: \u001b[0magnostic_nms=False, amp=True, augment=False, auto_augment=randaugment, batch=16, bgr=0.0, box=7.5, cache=False, cfg=None, classes=None, close_mosaic=10, cls=0.5, conf=None, copy_paste=0.0, copy_paste_mode=flip, cos_lr=False, cutmix=0.0, data=/content/Project-1-9/data.yaml, degrees=0.0, deterministic=True, device=None, dfl=1.5, dnn=False, dropout=0.0, dynamic=False, embed=None, epochs=3, erasing=0.4, exist_ok=False, fliplr=0.5, flipud=0.0, format=torchscript, fraction=1.0, freeze=None, half=False, hsv_h=0.015, hsv_s=0.7, hsv_v=0.4, imgsz=640, int8=False, iou=0.7, keras=False, kobj=1.0, line_width=None, lr0=0.01, lrf=0.01, mask_ratio=4, max_det=300, mixup=0.0, mode=train, model=yolo11n.pt, momentum=0.937, mosaic=1.0, multi_scale=False, name=train4, nbs=64, nms=False, opset=None, optimize=False, optimizer=auto, overlap_mask=True, patience=100, perspective=0.0, plots=True, pose=12.0, pretrained=True, profile=False, project=None, rect=False, resume=False, retina_masks=False, save=True, save_conf=False, save_crop=False, save_dir=runs/detect/train4, save_frames=False, save_json=False, save_period=-1, save_txt=False, scale=0.5, seed=0, shear=0.0, show=False, show_boxes=True, show_conf=True, show_labels=True, simplify=True, single_cls=False, source=None, split=val, stream_buffer=False, task=detect, time=None, tracker=botsort.yaml, translate=0.1, val=True, verbose=True, vid_stride=1, visualize=False, warmup_bias_lr=0.1, warmup_epochs=3.0, warmup_momentum=0.8, weight_decay=0.0005, workers=8, workspace=None\n",
            "Overriding model.yaml nc=80 with nc=1\n",
            "\n",
            "                   from  n    params  module                                       arguments                     \n",
            "  0                  -1  1       464  ultralytics.nn.modules.conv.Conv             [3, 16, 3, 2]                 \n",
            "  1                  -1  1      4672  ultralytics.nn.modules.conv.Conv             [16, 32, 3, 2]                \n",
            "  2                  -1  1      6640  ultralytics.nn.modules.block.C3k2            [32, 64, 1, False, 0.25]      \n",
            "  3                  -1  1     36992  ultralytics.nn.modules.conv.Conv             [64, 64, 3, 2]                \n",
            "  4                  -1  1     26080  ultralytics.nn.modules.block.C3k2            [64, 128, 1, False, 0.25]     \n",
            "  5                  -1  1    147712  ultralytics.nn.modules.conv.Conv             [128, 128, 3, 2]              \n",
            "  6                  -1  1     87040  ultralytics.nn.modules.block.C3k2            [128, 128, 1, True]           \n",
            "  7                  -1  1    295424  ultralytics.nn.modules.conv.Conv             [128, 256, 3, 2]              \n",
            "  8                  -1  1    346112  ultralytics.nn.modules.block.C3k2            [256, 256, 1, True]           \n",
            "  9                  -1  1    164608  ultralytics.nn.modules.block.SPPF            [256, 256, 5]                 \n",
            " 10                  -1  1    249728  ultralytics.nn.modules.block.C2PSA           [256, 256, 1]                 \n",
            " 11                  -1  1         0  torch.nn.modules.upsampling.Upsample         [None, 2, 'nearest']          \n",
            " 12             [-1, 6]  1         0  ultralytics.nn.modules.conv.Concat           [1]                           \n",
            " 13                  -1  1    111296  ultralytics.nn.modules.block.C3k2            [384, 128, 1, False]          \n",
            " 14                  -1  1         0  torch.nn.modules.upsampling.Upsample         [None, 2, 'nearest']          \n",
            " 15             [-1, 4]  1         0  ultralytics.nn.modules.conv.Concat           [1]                           \n",
            " 16                  -1  1     32096  ultralytics.nn.modules.block.C3k2            [256, 64, 1, False]           \n",
            " 17                  -1  1     36992  ultralytics.nn.modules.conv.Conv             [64, 64, 3, 2]                \n",
            " 18            [-1, 13]  1         0  ultralytics.nn.modules.conv.Concat           [1]                           \n",
            " 19                  -1  1     86720  ultralytics.nn.modules.block.C3k2            [192, 128, 1, False]          \n",
            " 20                  -1  1    147712  ultralytics.nn.modules.conv.Conv             [128, 128, 3, 2]              \n",
            " 21            [-1, 10]  1         0  ultralytics.nn.modules.conv.Concat           [1]                           \n",
            " 22                  -1  1    378880  ultralytics.nn.modules.block.C3k2            [384, 256, 1, True]           \n",
            " 23        [16, 19, 22]  1    430867  ultralytics.nn.modules.head.Detect           [1, [64, 128, 256]]           \n",
            "YOLO11n summary: 181 layers, 2,590,035 parameters, 2,590,019 gradients, 6.4 GFLOPs\n",
            "\n",
            "Transferred 448/499 items from pretrained weights\n",
            "\u001b[34m\u001b[1mTensorBoard: \u001b[0mStart with 'tensorboard --logdir runs/detect/train4', view at http://localhost:6006/\n",
            "Freezing layer 'model.23.dfl.conv.weight'\n",
            "\u001b[34m\u001b[1mAMP: \u001b[0mrunning Automatic Mixed Precision (AMP) checks...\n",
            "\u001b[34m\u001b[1mAMP: \u001b[0mchecks passed ✅\n",
            "\u001b[34m\u001b[1mtrain: \u001b[0mFast image access ✅ (ping: 0.0±0.0 ms, read: 1036.8±243.8 MB/s, size: 39.7 KB)\n"
          ]
        },
        {
          "name": "stderr",
          "output_type": "stream",
          "text": [
            "\u001b[34m\u001b[1mtrain: \u001b[0mScanning /content/Project-1-9/train/labels.cache... 28 images, 0 backgrounds, 0 corrupt: 100%|██████████| 28/28 [00:00<?, ?it/s]"
          ]
        },
        {
          "name": "stdout",
          "output_type": "stream",
          "text": [
            "\u001b[34m\u001b[1mtrain: \u001b[0m/content/Project-1-9/train/images/image_15_jpeg.rf.073db32c7182140ca0fa68f9801a2ece.jpg: 1 duplicate labels removed\n",
            "\u001b[34m\u001b[1malbumentations: \u001b[0mBlur(p=0.01, blur_limit=(3, 7)), MedianBlur(p=0.01, blur_limit=(3, 7)), ToGray(p=0.01, method='weighted_average', num_output_channels=3), CLAHE(p=0.01, clip_limit=(1.0, 4.0), tile_grid_size=(8, 8))\n"
          ]
        },
        {
          "name": "stderr",
          "output_type": "stream",
          "text": [
            "\n"
          ]
        },
        {
          "name": "stdout",
          "output_type": "stream",
          "text": [
            "\u001b[34m\u001b[1mval: \u001b[0mFast image access ✅ (ping: 0.0±0.0 ms, read: 458.0±72.2 MB/s, size: 50.6 KB)\n"
          ]
        },
        {
          "name": "stderr",
          "output_type": "stream",
          "text": [
            "\u001b[34m\u001b[1mval: \u001b[0mScanning /content/Project-1-9/valid/labels.cache... 58 images, 2 backgrounds, 0 corrupt: 100%|██████████| 58/58 [00:00<?, ?it/s]"
          ]
        },
        {
          "name": "stdout",
          "output_type": "stream",
          "text": [
            "WARNING ⚠️ Box and segment counts should be equal, but got len(segments) = 56, len(boxes) = 64. To resolve this only boxes will be used and all segments will be removed. To avoid this please supply either a detect or segment dataset, not a detect-segment mixed dataset.\n"
          ]
        },
        {
          "name": "stderr",
          "output_type": "stream",
          "text": [
            "\n"
          ]
        },
        {
          "name": "stdout",
          "output_type": "stream",
          "text": [
            "Plotting labels to runs/detect/train4/labels.jpg... \n",
            "\u001b[34m\u001b[1moptimizer:\u001b[0m 'optimizer=auto' found, ignoring 'lr0=0.01' and 'momentum=0.937' and determining best 'optimizer', 'lr0' and 'momentum' automatically... \n",
            "\u001b[34m\u001b[1moptimizer:\u001b[0m AdamW(lr=0.002, momentum=0.9) with parameter groups 81 weight(decay=0.0), 88 weight(decay=0.0005), 87 bias(decay=0.0)\n",
            "\u001b[34m\u001b[1mTensorBoard: \u001b[0mmodel graph visualization added ✅\n",
            "Image sizes 640 train, 640 val\n",
            "Using 2 dataloader workers\n",
            "Logging results to \u001b[1mruns/detect/train4\u001b[0m\n",
            "Starting training for 3 epochs...\n",
            "\n",
            "      Epoch    GPU_mem   box_loss   cls_loss   dfl_loss  Instances       Size\n"
          ]
        },
        {
          "name": "stderr",
          "output_type": "stream",
          "text": [
            "        1/3      2.25G      0.878      2.547      1.336         40        640: 100%|██████████| 2/2 [00:00<00:00,  2.84it/s]\n",
            "                 Class     Images  Instances      Box(P          R      mAP50  mAP50-95): 100%|██████████| 2/2 [00:01<00:00,  1.89it/s]"
          ]
        },
        {
          "name": "stdout",
          "output_type": "stream",
          "text": [
            "                   all         58         64    0.00351      0.953      0.244      0.158\n",
            "\n",
            "      Epoch    GPU_mem   box_loss   cls_loss   dfl_loss  Instances       Size\n"
          ]
        },
        {
          "name": "stderr",
          "output_type": "stream",
          "text": [
            "\n",
            "        2/3      2.64G     0.7688      2.522       1.29         39        640: 100%|██████████| 2/2 [00:00<00:00,  3.58it/s]\n",
            "                 Class     Images  Instances      Box(P          R      mAP50  mAP50-95): 100%|██████████| 2/2 [00:00<00:00,  3.05it/s]"
          ]
        },
        {
          "name": "stdout",
          "output_type": "stream",
          "text": [
            "                   all         58         64    0.00351      0.953      0.279       0.18\n"
          ]
        },
        {
          "name": "stderr",
          "output_type": "stream",
          "text": [
            "\n"
          ]
        },
        {
          "name": "stdout",
          "output_type": "stream",
          "text": [
            "\n",
            "      Epoch    GPU_mem   box_loss   cls_loss   dfl_loss  Instances       Size\n"
          ]
        },
        {
          "name": "stderr",
          "output_type": "stream",
          "text": [
            "        3/3      2.64G     0.8431      2.531      1.338         42        640: 100%|██████████| 2/2 [00:00<00:00,  4.30it/s]\n",
            "                 Class     Images  Instances      Box(P          R      mAP50  mAP50-95): 100%|██████████| 2/2 [00:00<00:00,  3.80it/s]"
          ]
        },
        {
          "name": "stdout",
          "output_type": "stream",
          "text": [
            "                   all         58         64    0.00351      0.953      0.304      0.191\n"
          ]
        },
        {
          "name": "stderr",
          "output_type": "stream",
          "text": [
            "\n"
          ]
        },
        {
          "name": "stdout",
          "output_type": "stream",
          "text": [
            "\n",
            "3 epochs completed in 0.003 hours.\n",
            "Optimizer stripped from runs/detect/train4/weights/last.pt, 5.5MB\n",
            "Optimizer stripped from runs/detect/train4/weights/best.pt, 5.5MB\n",
            "\n",
            "Validating runs/detect/train4/weights/best.pt...\n",
            "Ultralytics 8.3.158 🚀 Python-3.11.13 torch-2.6.0+cu124 CUDA:0 (Tesla T4, 15095MiB)\n",
            "YOLO11n summary (fused): 100 layers, 2,582,347 parameters, 0 gradients, 6.3 GFLOPs\n"
          ]
        },
        {
          "name": "stderr",
          "output_type": "stream",
          "text": [
            "                 Class     Images  Instances      Box(P          R      mAP50  mAP50-95): 100%|██████████| 2/2 [00:00<00:00,  2.49it/s]\n"
          ]
        },
        {
          "name": "stdout",
          "output_type": "stream",
          "text": [
            "                   all         58         64    0.00351      0.953      0.306      0.187\n",
            "Speed: 0.2ms preprocess, 2.7ms inference, 0.0ms loss, 3.7ms postprocess per image\n",
            "Results saved to \u001b[1mruns/detect/train4\u001b[0m\n",
            "\n",
            "image 1/1 /content/Project-1-9/test/images/suggested-bxdTCoAnKnlEt3WPe722_jpg.rf.3048fd645ffe03c7f8894c07d0e647bc.jpg: 640x640 (no detections), 9.0ms\n",
            "Speed: 1.9ms preprocess, 9.0ms inference, 0.7ms postprocess per image at shape (1, 3, 640, 640)\n",
            "Results saved to \u001b[1mruns/detect/train42\u001b[0m\n"
          ]
        },
        {
          "data": {
            "text/plain": [
              "[ultralytics.engine.results.Results object with attributes:\n",
              " \n",
              " boxes: ultralytics.engine.results.Boxes object\n",
              " keypoints: None\n",
              " masks: None\n",
              " names: {0: 'mobil'}\n",
              " obb: None\n",
              " orig_img: array([[[  0,   0,   0],\n",
              "         [  0,   0,   0],\n",
              "         [  0,   1,   0],\n",
              "         ...,\n",
              "         [ 15,  15,  15],\n",
              "         [  0,   0,   0],\n",
              "         [  0,   0,   0]],\n",
              " \n",
              "        [[  0,   0,   0],\n",
              "         [  0,   0,   0],\n",
              "         [  0,   1,   0],\n",
              "         ...,\n",
              "         [  0,   0,   0],\n",
              "         [  1,   1,   1],\n",
              "         [  5,   5,   5]],\n",
              " \n",
              "        [[  0,   1,   0],\n",
              "         [  0,   1,   0],\n",
              "         [  0,   1,   0],\n",
              "         ...,\n",
              "         [  1,   1,   1],\n",
              "         [  6,   6,   6],\n",
              "         [  0,   0,   0]],\n",
              " \n",
              "        ...,\n",
              " \n",
              "        [[114, 102, 100],\n",
              "         [113, 101,  99],\n",
              "         [108,  96,  94],\n",
              "         ...,\n",
              "         [ 16,  10,  15],\n",
              "         [ 30,  24,  29],\n",
              "         [ 43,  37,  42]],\n",
              " \n",
              "        [[112, 100,  98],\n",
              "         [114, 102, 100],\n",
              "         [112, 100,  98],\n",
              "         ...,\n",
              "         [ 26,  20,  25],\n",
              "         [ 35,  29,  34],\n",
              "         [ 42,  36,  41]],\n",
              " \n",
              "        [[109,  97,  95],\n",
              "         [114, 102, 100],\n",
              "         [115, 103, 101],\n",
              "         ...,\n",
              "         [ 33,  27,  32],\n",
              "         [ 37,  31,  36],\n",
              "         [ 38,  32,  37]]], dtype=uint8)\n",
              " orig_shape: (640, 640)\n",
              " path: '/content/Project-1-9/test/images/suggested-bxdTCoAnKnlEt3WPe722_jpg.rf.3048fd645ffe03c7f8894c07d0e647bc.jpg'\n",
              " probs: None\n",
              " save_dir: 'runs/detect/train42'\n",
              " speed: {'preprocess': 1.8683580001379596, 'inference': 9.010019000015745, 'postprocess': 0.7150069995986996}]"
            ]
          },
          "execution_count": 20,
          "metadata": {},
          "output_type": "execute_result"
        }
      ],
      "source": [
        "# Load YOLO11n, train it on COCO128 for 3 epochs and predict an image with it\n",
        "from ultralytics import YOLO\n",
        "\n",
        "model = YOLO('yolo11n.pt')  # load a pretrained YOLO detection model\n",
        "model.train(data='/content/Project-1-9/data.yaml', epochs=3)  # train the model\n",
        "model('/content/Project-1-9/test/images/suggested-bxdTCoAnKnlEt3WPe722_jpg.rf.3048fd645ffe03c7f8894c07d0e647bc.jpg', show = True, save = True)  # predict on an image"
      ]
    },
    {
      "cell_type": "markdown",
      "metadata": {
        "id": "7ZW58jUzK66B"
      },
      "source": [
        "## 2. Segmentation\n",
        "\n",
        "YOLO11 _segmentation_ models use the `-seg` suffix, i.e. `yolo11n-seg.pt` and are pretrained on COCO. See [Segmentation Docs](https://docs.ultralytics.com/tasks/segment/) for full details.\n"
      ]
    },
    {
      "cell_type": "code",
      "execution_count": null,
      "metadata": {
        "id": "WFPJIQl_L5HT"
      },
      "outputs": [],
      "source": [
        "# Load YOLO11n-seg, train it on COCO128-seg for 3 epochs and predict an image with it\n",
        "from ultralytics import YOLO\n",
        "\n",
        "model = YOLO('yolo11n-seg.pt')  # load a pretrained YOLO segmentation model\n",
        "model.train(data='coco8-seg.yaml', epochs=3)  # train the model\n",
        "model('https://ultralytics.com/images/bus.jpg')  # predict on an image"
      ]
    },
    {
      "cell_type": "markdown",
      "metadata": {
        "id": "ax3p94VNK9zR"
      },
      "source": [
        "## 3. Classification\n",
        "\n",
        "YOLO11 _classification_ models use the `-cls` suffix, i.e. `yolo11n-cls.pt` and are pretrained on ImageNet. See [Classification Docs](https://docs.ultralytics.com/tasks/classify/) for full details.\n"
      ]
    },
    {
      "cell_type": "code",
      "execution_count": null,
      "metadata": {
        "id": "5q9Zu6zlL5rS"
      },
      "outputs": [],
      "source": [
        "# Load YOLO11n-cls, train it on mnist160 for 3 epochs and predict an image with it\n",
        "from ultralytics import YOLO\n",
        "\n",
        "model = YOLO('yolo11n-cls.pt')  # load a pretrained YOLO classification model\n",
        "model.train(data='mnist160', epochs=3)  # train the model\n",
        "model('https://ultralytics.com/images/bus.jpg')  # predict on an image"
      ]
    },
    {
      "cell_type": "markdown",
      "metadata": {
        "id": "SpIaFLiO11TG"
      },
      "source": [
        "## 4. Pose\n",
        "\n",
        "YOLO11 _pose_ models use the `-pose` suffix, i.e. `yolo11n-pose.pt` and are pretrained on COCO Keypoints. See [Pose Docs](https://docs.ultralytics.com/tasks/pose/) for full details."
      ]
    },
    {
      "cell_type": "code",
      "execution_count": null,
      "metadata": {
        "id": "si4aKFNg19vX"
      },
      "outputs": [],
      "source": [
        "# Load YOLO11n-pose, train it on COCO8-pose for 3 epochs and predict an image with it\n",
        "from ultralytics import YOLO\n",
        "\n",
        "model = YOLO('yolo11n-pose.pt')  # load a pretrained YOLO pose model\n",
        "model.train(data='coco8-pose.yaml', epochs=3)  # train the model\n",
        "model('https://ultralytics.com/images/bus.jpg')  # predict on an image"
      ]
    },
    {
      "cell_type": "markdown",
      "metadata": {
        "id": "cf5j_T9-B5F0"
      },
      "source": [
        "## 4. Oriented Bounding Boxes (OBB)\n",
        "\n",
        "YOLO11 _OBB_ models use the `-obb` suffix, i.e. `yolo11n-obb.pt` and are pretrained on the DOTA dataset. See [OBB Docs](https://docs.ultralytics.com/tasks/obb/) for full details."
      ]
    },
    {
      "cell_type": "code",
      "execution_count": null,
      "metadata": {
        "id": "IJNKClOOB5YS"
      },
      "outputs": [],
      "source": [
        "# Load YOLO11n-obb, train it on DOTA8 for 3 epochs and predict an image with it\n",
        "from ultralytics import YOLO\n",
        "\n",
        "model = YOLO('yolo11n-obb.pt')  # load a pretrained YOLO OBB model\n",
        "model.train(data='dota8.yaml', epochs=3)  # train the model\n",
        "model('https://ultralytics.com/images/boats.jpg')  # predict on an image"
      ]
    },
    {
      "cell_type": "markdown",
      "metadata": {
        "id": "IEijrePND_2I"
      },
      "source": [
        "# Appendix\n",
        "\n",
        "Additional content below."
      ]
    },
    {
      "cell_type": "code",
      "execution_count": null,
      "metadata": {
        "id": "pIdE6i8C3LYp"
      },
      "outputs": [],
      "source": [
        "# Pip install from source\n",
        "!pip install git+https://github.com/ultralytics/ultralytics@main"
      ]
    },
    {
      "cell_type": "code",
      "execution_count": null,
      "metadata": {
        "id": "uRKlwxSJdhd1"
      },
      "outputs": [],
      "source": [
        "# Git clone and run tests on 'main' branch\n",
        "!git clone https://github.com/ultralytics/ultralytics -b main\n",
        "%pip install -qe ultralytics"
      ]
    },
    {
      "cell_type": "code",
      "execution_count": null,
      "metadata": {
        "id": "GtPlh7mcCGZX"
      },
      "outputs": [],
      "source": [
        "# Run tests (Git clone only)\n",
        "!pytest ultralytics/tests"
      ]
    },
    {
      "cell_type": "code",
      "execution_count": null,
      "metadata": {
        "id": "Wdc6t_bfzDDk"
      },
      "outputs": [],
      "source": [
        "# Validate multiple models\n",
        "for x in 'nsmlx':\n",
        "  !yolo val model=yolo11{x}.pt data=coco.yaml"
      ]
    }
  ],
  "metadata": {
    "accelerator": "GPU",
    "colab": {
      "gpuType": "T4",
      "provenance": []
    },
    "kernelspec": {
      "display_name": "Python 3",
      "name": "python3"
    }
  },
  "nbformat": 4,
  "nbformat_minor": 0
}